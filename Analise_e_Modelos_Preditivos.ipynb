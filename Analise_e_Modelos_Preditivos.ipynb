{
 "cells": [
  {
   "cell_type": "markdown",
   "metadata": {
    "id": "xUyVjzf1tUZ8"
   },
   "source": [
    "# ***ANALISANDO DADOS COM PYTHON (Carregando Dados e Bibliotecas)***"
   ]
  },
  {
   "cell_type": "code",
   "execution_count": 1,
   "metadata": {
    "id": "-7sipntWtTwp",
    "tags": []
   },
   "outputs": [],
   "source": [
    "#Importação das bibliotecas e leitura dos dados\n",
    "\n",
    "import pandas as pd #----Manipulação dos dados em modelo tabular\n",
    "\n",
    "import seaborn as sb #----Criação de gráficos personalizados\n",
    "\n",
    "import matplotlib.pyplot as plt#----Customização de figuras\n",
    "\n",
    "import datetime as dt #----Manipulação de datas\n",
    "\n",
    "df = pd.read_csv('Factory_Salary.csv')#----Passando os dados para uma variável através do Pandas"
   ]
  },
  {
   "cell_type": "code",
   "execution_count": 2,
   "metadata": {
    "colab": {
     "base_uri": "https://localhost:8080/",
     "height": 206
    },
    "id": "driN8Df09-4Q",
    "outputId": "6bb67c0e-481b-4b14-c6ed-f82a6a5f4293"
   },
   "outputs": [
    {
     "data": {
      "text/html": [
       "<div>\n",
       "<style scoped>\n",
       "    .dataframe tbody tr th:only-of-type {\n",
       "        vertical-align: middle;\n",
       "    }\n",
       "\n",
       "    .dataframe tbody tr th {\n",
       "        vertical-align: top;\n",
       "    }\n",
       "\n",
       "    .dataframe thead th {\n",
       "        text-align: right;\n",
       "    }\n",
       "</style>\n",
       "<table border=\"1\" class=\"dataframe\">\n",
       "  <thead>\n",
       "    <tr style=\"text-align: right;\">\n",
       "      <th></th>\n",
       "      <th>Date</th>\n",
       "      <th>Profession</th>\n",
       "      <th>Rank</th>\n",
       "      <th>Equipment</th>\n",
       "      <th>Insalubrity</th>\n",
       "      <th>Size_Production</th>\n",
       "      <th>Salary</th>\n",
       "    </tr>\n",
       "  </thead>\n",
       "  <tbody>\n",
       "    <tr>\n",
       "      <th>0</th>\n",
       "      <td>2009-01-01</td>\n",
       "      <td>Metal heater</td>\n",
       "      <td>7</td>\n",
       "      <td>Heating furnaces</td>\n",
       "      <td>22</td>\n",
       "      <td>580</td>\n",
       "      <td>26020.0</td>\n",
       "    </tr>\n",
       "    <tr>\n",
       "      <th>1</th>\n",
       "      <td>2009-01-01</td>\n",
       "      <td>Metal heater</td>\n",
       "      <td>6</td>\n",
       "      <td>Heating furnaces</td>\n",
       "      <td>22</td>\n",
       "      <td>580</td>\n",
       "      <td>22980.0</td>\n",
       "    </tr>\n",
       "    <tr>\n",
       "      <th>2</th>\n",
       "      <td>2009-01-01</td>\n",
       "      <td>Metal heater</td>\n",
       "      <td>5</td>\n",
       "      <td>Heating furnaces</td>\n",
       "      <td>22</td>\n",
       "      <td>580</td>\n",
       "      <td>20350.0</td>\n",
       "    </tr>\n",
       "    <tr>\n",
       "      <th>3</th>\n",
       "      <td>2009-01-01</td>\n",
       "      <td>Metal heater</td>\n",
       "      <td>5</td>\n",
       "      <td>Heating furnaces</td>\n",
       "      <td>22</td>\n",
       "      <td>580</td>\n",
       "      <td>20350.0</td>\n",
       "    </tr>\n",
       "    <tr>\n",
       "      <th>4</th>\n",
       "      <td>2009-01-01</td>\n",
       "      <td>Metal heater</td>\n",
       "      <td>4</td>\n",
       "      <td>Heating furnaces</td>\n",
       "      <td>22</td>\n",
       "      <td>580</td>\n",
       "      <td>18090.0</td>\n",
       "    </tr>\n",
       "  </tbody>\n",
       "</table>\n",
       "</div>"
      ],
      "text/plain": [
       "         Date    Profession  Rank         Equipment  Insalubrity  \\\n",
       "0  2009-01-01  Metal heater     7  Heating furnaces           22   \n",
       "1  2009-01-01  Metal heater     6  Heating furnaces           22   \n",
       "2  2009-01-01  Metal heater     5  Heating furnaces           22   \n",
       "3  2009-01-01  Metal heater     5  Heating furnaces           22   \n",
       "4  2009-01-01  Metal heater     4  Heating furnaces           22   \n",
       "\n",
       "   Size_Production   Salary  \n",
       "0              580  26020.0  \n",
       "1              580  22980.0  \n",
       "2              580  20350.0  \n",
       "3              580  20350.0  \n",
       "4              580  18090.0  "
      ]
     },
     "execution_count": 2,
     "metadata": {},
     "output_type": "execute_result"
    }
   ],
   "source": [
    "#LINK DO REPOSITÓRIO ORIGINAL\n",
    "#https://www.kaggle.com/datasets/ivangavrilove88/factorys-salary\n",
    "df.head()"
   ]
  },
  {
   "cell_type": "markdown",
   "metadata": {
    "id": "jwYidEf7tmAM"
   },
   "source": [
    "# **Analisando a distribuição dos salários (Salary)**\n",
    "\n"
   ]
  },
  {
   "cell_type": "code",
   "execution_count": 3,
   "metadata": {
    "colab": {
     "base_uri": "https://localhost:8080/",
     "height": 748
    },
    "id": "co8jXjOZWwMK",
    "outputId": "6b356373-48e8-415f-e2b5-b30b93518487"
   },
   "outputs": [
    {
     "data": {
      "image/png": "[encoded data removed]",
      "text/plain": [
       "<Figure size 500x400 with 1 Axes>"
      ]
     },
     "metadata": {},
     "output_type": "display_data"
    },
    {
     "data": {
      "image/png": "[encoded data removed]",
      "text/plain": [
       "<Figure size 500x400 with 1 Axes>"
      ]
     },
     "metadata": {},
     "output_type": "display_data"
    },
    {
     "name": "stdout",
     "output_type": "stream",
     "text": [
      "\n",
      "RESUMO ESTATÍSTICO\n",
      "\n"
     ]
    },
    {
     "data": {
      "text/plain": [
       "count      264.000000\n",
       "mean     21030.461230\n",
       "std       4323.920780\n",
       "min      12180.000000\n",
       "25%      17830.000000\n",
       "50%      20350.000000\n",
       "75%      23818.014706\n",
       "max      33157.058824\n",
       "Name: Salary, dtype: float64"
      ]
     },
     "execution_count": 3,
     "metadata": {},
     "output_type": "execute_result"
    }
   ],
   "source": [
    "x, y = 5, 4\n",
    "#Gerando histograma\n",
    "\n",
    "plt.figure(figsize=(x,y))\n",
    "sb.histplot(df.Salary)\n",
    "plt.axvline(df.Salary.median(),color='y',label='Mediana')\n",
    "plt.axvline(df.Salary.mean(),color='r',label='Media')\n",
    "plt.title('Distribuição Salary')\n",
    "plt.legend()\n",
    "plt.show()\n",
    "\n",
    "#Gerando boxplot\n",
    "plt.figure(figsize=(x,y))\n",
    "sb.boxplot(y=df.Salary,orient='v')\n",
    "plt.show()\n",
    "\n",
    "#Gerando resumo estatístico\n",
    "print('\\nRESUMO ESTATÍSTICO\\n')\n",
    "df.Salary.describe()"
   ]
  },
  {
   "cell_type": "markdown",
   "metadata": {
    "id": "r3b83DBs0sVl"
   },
   "source": [
    "# **Analisando a influência da Data (Date)**"
   ]
  },
  {
   "cell_type": "code",
   "execution_count": 4,
   "metadata": {
    "colab": {
     "base_uri": "https://localhost:8080/"
    },
    "id": "NnKzD267wXxY",
    "outputId": "6315e533-652e-4c12-c9ef-cfc09912976c"
   },
   "outputs": [
    {
     "data": {
      "text/plain": [
       "array(['2009-01-01', '2009-02-01', '2009-03-01', '2009-04-01',\n",
       "       '2009-05-01', '2009-06-01', '2009-07-01', '2009-08-01',\n",
       "       '2009-09-01', '2009-10-01', '2009-11-01', '2009-12-01'],\n",
       "      dtype=object)"
      ]
     },
     "execution_count": 4,
     "metadata": {},
     "output_type": "execute_result"
    }
   ],
   "source": [
    "df['Date'].unique()"
   ]
  },
  {
   "cell_type": "code",
   "execution_count": 5,
   "metadata": {
    "colab": {
     "base_uri": "https://localhost:8080/",
     "height": 206
    },
    "id": "EPEdRV3av7r-",
    "outputId": "49e2e73f-efaf-4529-e269-7025a94e28c8"
   },
   "outputs": [
    {
     "data": {
      "text/html": [
       "<div>\n",
       "<style scoped>\n",
       "    .dataframe tbody tr th:only-of-type {\n",
       "        vertical-align: middle;\n",
       "    }\n",
       "\n",
       "    .dataframe tbody tr th {\n",
       "        vertical-align: top;\n",
       "    }\n",
       "\n",
       "    .dataframe thead th {\n",
       "        text-align: right;\n",
       "    }\n",
       "</style>\n",
       "<table border=\"1\" class=\"dataframe\">\n",
       "  <thead>\n",
       "    <tr style=\"text-align: right;\">\n",
       "      <th></th>\n",
       "      <th>Date</th>\n",
       "      <th>Profession</th>\n",
       "      <th>Rank</th>\n",
       "      <th>Equipment</th>\n",
       "      <th>Insalubrity</th>\n",
       "      <th>Size_Production</th>\n",
       "      <th>Salary</th>\n",
       "      <th>month</th>\n",
       "    </tr>\n",
       "  </thead>\n",
       "  <tbody>\n",
       "    <tr>\n",
       "      <th>0</th>\n",
       "      <td>2009-01-01</td>\n",
       "      <td>Metal heater</td>\n",
       "      <td>7</td>\n",
       "      <td>Heating furnaces</td>\n",
       "      <td>22</td>\n",
       "      <td>580</td>\n",
       "      <td>26020.0</td>\n",
       "      <td>1</td>\n",
       "    </tr>\n",
       "    <tr>\n",
       "      <th>1</th>\n",
       "      <td>2009-01-01</td>\n",
       "      <td>Metal heater</td>\n",
       "      <td>6</td>\n",
       "      <td>Heating furnaces</td>\n",
       "      <td>22</td>\n",
       "      <td>580</td>\n",
       "      <td>22980.0</td>\n",
       "      <td>1</td>\n",
       "    </tr>\n",
       "    <tr>\n",
       "      <th>2</th>\n",
       "      <td>2009-01-01</td>\n",
       "      <td>Metal heater</td>\n",
       "      <td>5</td>\n",
       "      <td>Heating furnaces</td>\n",
       "      <td>22</td>\n",
       "      <td>580</td>\n",
       "      <td>20350.0</td>\n",
       "      <td>1</td>\n",
       "    </tr>\n",
       "    <tr>\n",
       "      <th>3</th>\n",
       "      <td>2009-01-01</td>\n",
       "      <td>Metal heater</td>\n",
       "      <td>5</td>\n",
       "      <td>Heating furnaces</td>\n",
       "      <td>22</td>\n",
       "      <td>580</td>\n",
       "      <td>20350.0</td>\n",
       "      <td>1</td>\n",
       "    </tr>\n",
       "    <tr>\n",
       "      <th>4</th>\n",
       "      <td>2009-01-01</td>\n",
       "      <td>Metal heater</td>\n",
       "      <td>4</td>\n",
       "      <td>Heating furnaces</td>\n",
       "      <td>22</td>\n",
       "      <td>580</td>\n",
       "      <td>18090.0</td>\n",
       "      <td>1</td>\n",
       "    </tr>\n",
       "  </tbody>\n",
       "</table>\n",
       "</div>"
      ],
      "text/plain": [
       "        Date    Profession  Rank         Equipment  Insalubrity  \\\n",
       "0 2009-01-01  Metal heater     7  Heating furnaces           22   \n",
       "1 2009-01-01  Metal heater     6  Heating furnaces           22   \n",
       "2 2009-01-01  Metal heater     5  Heating furnaces           22   \n",
       "3 2009-01-01  Metal heater     5  Heating furnaces           22   \n",
       "4 2009-01-01  Metal heater     4  Heating furnaces           22   \n",
       "\n",
       "   Size_Production   Salary  month  \n",
       "0              580  26020.0      1  \n",
       "1              580  22980.0      1  \n",
       "2              580  20350.0      1  \n",
       "3              580  20350.0      1  \n",
       "4              580  18090.0      1  "
      ]
     },
     "execution_count": 5,
     "metadata": {},
     "output_type": "execute_result"
    }
   ],
   "source": [
    "#Extraindo o mês\n",
    "df['Date'] = pd.to_datetime(df['Date'])\n",
    "df['month'] = df['Date'].dt.month\n",
    "df.head()"
   ]
  },
  {
   "cell_type": "code",
   "execution_count": 6,
   "metadata": {
    "colab": {
     "base_uri": "https://localhost:8080/",
     "height": 279
    },
    "id": "xMokrNxjwivL",
    "outputId": "db061301-5b28-49d8-de6e-0cdab1e46704"
   },
   "outputs": [
    {
     "data": {
      "image/png": "[encoded data removed]",
      "text/plain": [
       "<Figure size 640x480 with 1 Axes>"
      ]
     },
     "metadata": {},
     "output_type": "display_data"
    }
   ],
   "source": [
    "sb.scatterplot(x=df.month,y=df.Salary)\n",
    "plt.show()"
   ]
  },
  {
   "cell_type": "markdown",
   "metadata": {
    "id": "KqHnKDJz1A1e"
   },
   "source": [
    "# Conclusões até aqui:\n",
    "#A variável Date (data) demonstra um certa influência no valor do salário.\n"
   ]
  },
  {
   "cell_type": "markdown",
   "metadata": {
    "id": "9GTuYCAa8ghL"
   },
   "source": [
    "\n",
    "\n",
    "---\n",
    "\n"
   ]
  },
  {
   "cell_type": "markdown",
   "metadata": {
    "id": "TCPY_bEJb27R"
   },
   "source": [
    "# **Analisando Variáveis Númericas (Rank, Insaubrity, Size_Production)**\n",
    "\n"
   ]
  },
  {
   "cell_type": "code",
   "execution_count": 7,
   "metadata": {
    "colab": {
     "base_uri": "https://localhost:8080/",
     "height": 338
    },
    "id": "gi4TroMHQuWA",
    "outputId": "74660446-8096-4ea5-aed8-f53792176bb4"
   },
   "outputs": [
    {
     "data": {
      "image/png": "[encoded data removed]",
      "text/plain": [
       "<Figure size 640x480 with 2 Axes>"
      ]
     },
     "metadata": {},
     "output_type": "display_data"
    }
   ],
   "source": [
    "sb.heatmap(df.corr(),annot=True,fmt=\".3f\")\n",
    "plt.show()"
   ]
  },
  {
   "cell_type": "code",
   "execution_count": 8,
   "metadata": {
    "colab": {
     "base_uri": "https://localhost:8080/",
     "height": 295
    },
    "id": "zcMydBlZUJ26",
    "outputId": "88d62526-6ae5-4c69-8ccc-b6cfa60be685"
   },
   "outputs": [
    {
     "data": {
      "image/png": "[encoded data removed]",
      "text/plain": [
       "<Figure size 640x480 with 1 Axes>"
      ]
     },
     "metadata": {},
     "output_type": "display_data"
    }
   ],
   "source": [
    "sb.scatterplot(y=df.Salary,x=df.Rank)\n",
    "plt.title('Salary x Rank')\n",
    "plt.axhline(df.Salary.mean(),color='r',label='Media')\n",
    "plt.axhline(df.Salary.mean(),color='y',label='Mediana')\n",
    "plt.legend()\n",
    "plt.show()"
   ]
  },
  {
   "cell_type": "code",
   "execution_count": null,
   "metadata": {
    "colab": {
     "base_uri": "https://localhost:8080/",
     "height": 296
    },
    "id": "KCa_umf6VpW5",
    "outputId": "9716e04c-302a-447a-a85d-659a4e001dd7"
   },
   "outputs": [
    {
     "data": {
      "image/png": "[encoded data removed]",
      "text/plain": [
       "<Figure size 432x288 with 1 Axes>"
      ]
     },
     "metadata": {
      "needs_background": "light"
     },
     "output_type": "display_data"
    }
   ],
   "source": [
    "sb.scatterplot(y=df.Salary,x=df.Size_Production)\n",
    "plt.title('Salary x Size_Production')\n",
    "plt.axhline(df.Salary.mean(),color='r',label='Media')\n",
    "plt.axhline(df.Salary.mean(),color='y',label='Mediana')\n",
    "plt.legend()\n",
    "plt.show()"
   ]
  },
  {
   "cell_type": "code",
   "execution_count": 9,
   "metadata": {
    "colab": {
     "base_uri": "https://localhost:8080/",
     "height": 295
    },
    "id": "_WzHkEDAWRcL",
    "outputId": "49a9f94b-b8c5-446d-a302-8e119390522e"
   },
   "outputs": [
    {
     "data": {
      "image/png": "[encoded data removed]",
      "text/plain": [
       "<Figure size 640x480 with 1 Axes>"
      ]
     },
     "metadata": {},
     "output_type": "display_data"
    }
   ],
   "source": [
    "sb.scatterplot(y=df.Salary,x=df.Insalubrity)\n",
    "plt.title('Salary x Insalubrity')\n",
    "plt.axhline(df.Salary.mean(),color='r',label='Media')\n",
    "plt.axhline(df.Salary.mean(),color='y',label='Mediana')\n",
    "plt.legend()\n",
    "plt.show()"
   ]
  },
  {
   "cell_type": "markdown",
   "metadata": {
    "id": "HTbmsWnLvPuD"
   },
   "source": [
    "# Conclusões até aqui:\n",
    "#As variáveis Rank, Insalubrity e Size_Production tem uma correlação significativa com a variável Salary.\n",
    "\n",
    "---\n",
    "\n"
   ]
  },
  {
   "cell_type": "markdown",
   "metadata": {
    "id": "_dmLpWap6xRM"
   },
   "source": [
    "# **Analisando Size_Production**"
   ]
  },
  {
   "cell_type": "code",
   "execution_count": 10,
   "metadata": {
    "colab": {
     "base_uri": "https://localhost:8080/",
     "height": 279
    },
    "id": "cnjWOp_a611G",
    "outputId": "5c2db372-d9b9-469b-b126-6016ec506611"
   },
   "outputs": [
    {
     "data": {
      "image/png": "[encoded data removed]",
      "text/plain": [
       "<Figure size 640x480 with 1 Axes>"
      ]
     },
     "metadata": {},
     "output_type": "display_data"
    }
   ],
   "source": [
    "sb.scatterplot(x=df.month,y=df.Size_Production)\n",
    "plt.axhline(max(df.Size_Production),color='r')\n",
    "plt.axhline(min(df.Size_Production),color='r')\n",
    "plt.axhline(df.Size_Production.mean(),color='r')\n",
    "plt.show()"
   ]
  },
  {
   "cell_type": "markdown",
   "metadata": {
    "id": "i1ne_pGZbnXX"
   },
   "source": [
    "# **Analisando Profissão (Profession)**"
   ]
  },
  {
   "cell_type": "code",
   "execution_count": 11,
   "metadata": {
    "id": "1GFWngr0t2CW"
   },
   "outputs": [],
   "source": [
    "profissoes = list(df.Profession.unique())"
   ]
  },
  {
   "cell_type": "code",
   "execution_count": 12,
   "metadata": {
    "colab": {
     "base_uri": "https://localhost:8080/"
    },
    "id": "PfJav97KxXY6",
    "outputId": "c3d4373b-6942-4922-d618-eea7ca07a264"
   },
   "outputs": [
    {
     "data": {
      "text/plain": [
       "['Metal heater',\n",
       " 'Metal planter',\n",
       " 'Refractory',\n",
       " 'Roller',\n",
       " 'Roller assistant',\n",
       " 'Hot metal cutter',\n",
       " 'Cleaner',\n",
       " 'Operator',\n",
       " 'Quality controller']"
      ]
     },
     "execution_count": 12,
     "metadata": {},
     "output_type": "execute_result"
    }
   ],
   "source": [
    "profissoes"
   ]
  },
  {
   "cell_type": "code",
   "execution_count": 13,
   "metadata": {
    "colab": {
     "base_uri": "https://localhost:8080/",
     "height": 265
    },
    "id": "4LIB1HT4bCs0",
    "outputId": "d7bafde8-515d-450c-b1fb-9df24c2b0046"
   },
   "outputs": [
    {
     "data": {
      "image/png": "[encoded data removed]",
      "text/plain": [
       "<Figure size 1500x400 with 1 Axes>"
      ]
     },
     "metadata": {},
     "output_type": "display_data"
    }
   ],
   "source": [
    "plt.figure(figsize=(15,4))\n",
    "sb.barplot(x=profissoes,y=df.Profession.value_counts())\n",
    "plt.show()"
   ]
  },
  {
   "cell_type": "code",
   "execution_count": null,
   "metadata": {
    "colab": {
     "base_uri": "https://localhost:8080/",
     "height": 334
    },
    "id": "SkK-1KNDdLsL",
    "outputId": "5cd390e5-5f9b-4043-d9aa-4775472db4c1"
   },
   "outputs": [
    {
     "data": {
      "image/png": "[encoded data removed]",
      "text/plain": [
       "<Figure size 1080x360 with 1 Axes>"
      ]
     },
     "metadata": {
      "needs_background": "light"
     },
     "output_type": "display_data"
    }
   ],
   "source": [
    "plt.figure(figsize=(15,5))\n",
    "sb.boxplot(x=df.Profession,y=df.Salary)\n",
    "plt.axhline(max(df.Salary),color='r')\n",
    "plt.axhline(min(df.Salary),color='r')\n",
    "plt.axhline(df.Salary.mean(),color='r')\n",
    "plt.show()"
   ]
  },
  {
   "cell_type": "code",
   "execution_count": null,
   "metadata": {
    "colab": {
     "base_uri": "https://localhost:8080/",
     "height": 481
    },
    "id": "kR3zwAvm31th",
    "outputId": "203b8463-6624-4612-b76c-46865f161246"
   },
   "outputs": [
    {
     "data": {
      "image/png": "[encoded data removed]",
      "text/plain": [
       "<Figure size 1440x720 with 9 Axes>"
      ]
     },
     "metadata": {
      "needs_background": "light"
     },
     "output_type": "display_data"
    }
   ],
   "source": [
    "#Lembra que Date tinha uma influência no salário? Vamos ver como isso se mostra nas profissões\n",
    "fig_number = 1\n",
    "plt.figure(figsize=(20,10))\n",
    "\n",
    "for prof in profissoes:\n",
    "  plt.subplot(3,3,fig_number)\n",
    "  plt.title(prof)\n",
    "  sb.boxplot(x=df.month,y=df.Salary)\n",
    "  plt.axhline(max(df.Salary),color='r')\n",
    "  plt.axhline(min(df.Salary),color='r')\n",
    "  plt.axhline(df.Salary.mean(),color='r')\n",
    "  fig_number += 1\n",
    "\n",
    "plt.tight_layout()\n",
    "plt.show()"
   ]
  },
  {
   "cell_type": "code",
   "execution_count": null,
   "metadata": {
    "colab": {
     "base_uri": "https://localhost:8080/",
     "height": 295
    },
    "id": "d3cuTHZb583b",
    "outputId": "490bb52e-1182-4980-9399-0c2e6b0ecc7b"
   },
   "outputs": [
    {
     "data": {
      "image/png": "[encoded data removed]",
      "text/plain": [
       "<Figure size 432x288 with 1 Axes>"
      ]
     },
     "metadata": {
      "needs_background": "light"
     },
     "output_type": "display_data"
    }
   ],
   "source": [
    "sb.boxplot(x=df.month,y=df.Salary)\n",
    "plt.title('Salário pelo Mês')\n",
    "plt.axhline(max(df.Salary),color='r')\n",
    "plt.axhline(min(df.Salary),color='r')\n",
    "plt.axhline(df.Salary.mean(),color='r')\n",
    "plt.show()"
   ]
  },
  {
   "cell_type": "markdown",
   "metadata": {
    "id": "woe0-X6Gvp9W"
   },
   "source": [
    "#Conclusões até aqui: \n",
    "# 1 - Metal heater é uma profissão que apresenta a maior variabilidade de salários dentro da fábrica, o que indica uma possível progressão de carreira.\n",
    "# 2 - A variável Date influência o salário das profissões da mesma forma que influência os salários no cenário geral, tendo um pico no mês 7."
   ]
  },
  {
   "cell_type": "markdown",
   "metadata": {
    "id": "jtSLDFwH8sTG"
   },
   "source": [
    "\n",
    "\n",
    "---\n",
    "\n"
   ]
  },
  {
   "cell_type": "markdown",
   "metadata": {
    "id": "zPGimPzpwM26"
   },
   "source": [
    "# **Ansalisando com mais detalhes a distribuição de salários na profissão Metal heater**"
   ]
  },
  {
   "cell_type": "code",
   "execution_count": null,
   "metadata": {
    "id": "64kysJQWydss"
   },
   "outputs": [],
   "source": [
    "#importando Numpy (Álgebra Linear)\n",
    "import numpy as np"
   ]
  },
  {
   "cell_type": "code",
   "execution_count": null,
   "metadata": {
    "id": "qR-obU0pwL_T"
   },
   "outputs": [],
   "source": [
    "#Criando duas bases separadas para a profissão\n",
    "prof_1 = 'Metal heater'\n",
    "df_1 = df.loc[df.Profession == prof_1]"
   ]
  },
  {
   "cell_type": "code",
   "execution_count": null,
   "metadata": {
    "colab": {
     "base_uri": "https://localhost:8080/",
     "height": 206
    },
    "id": "D1Rk9Ca00rvU",
    "outputId": "6b91e695-22b9-40e6-fb29-7dd3def505b8"
   },
   "outputs": [
    {
     "data": {
      "text/html": [
       "\n",
       "  <div id=\"df-c51d4683-66b7-4cc9-9d46-5e69effe9b18\">\n",
       "    <div class=\"colab-df-container\">\n",
       "      <div>\n",
       "<style scoped>\n",
       "    .dataframe tbody tr th:only-of-type {\n",
       "        vertical-align: middle;\n",
       "    }\n",
       "\n",
       "    .dataframe tbody tr th {\n",
       "        vertical-align: top;\n",
       "    }\n",
       "\n",
       "    .dataframe thead th {\n",
       "        text-align: right;\n",
       "    }\n",
       "</style>\n",
       "<table border=\"1\" class=\"dataframe\">\n",
       "  <thead>\n",
       "    <tr style=\"text-align: right;\">\n",
       "      <th></th>\n",
       "      <th>Date</th>\n",
       "      <th>Profession</th>\n",
       "      <th>Rank</th>\n",
       "      <th>Equipment</th>\n",
       "      <th>Insalubrity</th>\n",
       "      <th>Size_Production</th>\n",
       "      <th>Salary</th>\n",
       "      <th>month</th>\n",
       "    </tr>\n",
       "  </thead>\n",
       "  <tbody>\n",
       "    <tr>\n",
       "      <th>220</th>\n",
       "      <td>2009-12-01</td>\n",
       "      <td>Metal heater</td>\n",
       "      <td>7</td>\n",
       "      <td>Heating furnaces</td>\n",
       "      <td>22</td>\n",
       "      <td>810</td>\n",
       "      <td>26020.0</td>\n",
       "      <td>12</td>\n",
       "    </tr>\n",
       "    <tr>\n",
       "      <th>221</th>\n",
       "      <td>2009-12-01</td>\n",
       "      <td>Metal heater</td>\n",
       "      <td>6</td>\n",
       "      <td>Heating furnaces</td>\n",
       "      <td>22</td>\n",
       "      <td>810</td>\n",
       "      <td>22980.0</td>\n",
       "      <td>12</td>\n",
       "    </tr>\n",
       "    <tr>\n",
       "      <th>222</th>\n",
       "      <td>2009-12-01</td>\n",
       "      <td>Metal heater</td>\n",
       "      <td>5</td>\n",
       "      <td>Heating furnaces</td>\n",
       "      <td>22</td>\n",
       "      <td>810</td>\n",
       "      <td>20350.0</td>\n",
       "      <td>12</td>\n",
       "    </tr>\n",
       "    <tr>\n",
       "      <th>223</th>\n",
       "      <td>2009-12-01</td>\n",
       "      <td>Metal heater</td>\n",
       "      <td>5</td>\n",
       "      <td>Heating furnaces</td>\n",
       "      <td>22</td>\n",
       "      <td>810</td>\n",
       "      <td>20350.0</td>\n",
       "      <td>12</td>\n",
       "    </tr>\n",
       "    <tr>\n",
       "      <th>224</th>\n",
       "      <td>2009-12-01</td>\n",
       "      <td>Metal heater</td>\n",
       "      <td>4</td>\n",
       "      <td>Heating furnaces</td>\n",
       "      <td>22</td>\n",
       "      <td>810</td>\n",
       "      <td>18090.0</td>\n",
       "      <td>12</td>\n",
       "    </tr>\n",
       "  </tbody>\n",
       "</table>\n",
       "</div>\n",
       "      <button class=\"colab-df-convert\" onclick=\"convertToInteractive('df-c51d4683-66b7-4cc9-9d46-5e69effe9b18')\"\n",
       "              title=\"Convert this dataframe to an interactive table.\"\n",
       "              style=\"display:none;\">\n",
       "        \n",
       "  <svg xmlns=\"http://www.w3.org/2000/svg\" height=\"24px\"viewBox=\"0 0 24 24\"\n",
       "       width=\"24px\">\n",
       "    <path d=\"M0 0h24v24H0V0z\" fill=\"none\"/>\n",
       "    <path d=\"M18.56 5.44l.94 2.06.94-2.06 2.06-.94-2.06-.94-.94-2.06-.94 2.06-2.06.94zm-11 1L8.5 8.5l.94-2.06 2.06-.94-2.06-.94L8.5 2.5l-.94 2.06-2.06.94zm10 10l.94 2.06.94-2.06 2.06-.94-2.06-.94-.94-2.06-.94 2.06-2.06.94z\"/><path d=\"M17.41 7.96l-1.37-1.37c-.4-.4-.92-.59-1.43-.59-.52 0-1.04.2-1.43.59L10.3 9.45l-7.72 7.72c-.78.78-.78 2.05 0 2.83L4 21.41c.39.39.9.59 1.41.59.51 0 1.02-.2 1.41-.59l7.78-7.78 2.81-2.81c.8-.78.8-2.07 0-2.86zM5.41 20L4 18.59l7.72-7.72 1.47 1.35L5.41 20z\"/>\n",
       "  </svg>\n",
       "      </button>\n",
       "      \n",
       "  <style>\n",
       "    .colab-df-container {\n",
       "      display:flex;\n",
       "      flex-wrap:wrap;\n",
       "      gap: 12px;\n",
       "    }\n",
       "\n",
       "    .colab-df-convert {\n",
       "      background-color: #E8F0FE;\n",
       "      border: none;\n",
       "      border-radius: 50%;\n",
       "      cursor: pointer;\n",
       "      display: none;\n",
       "      fill: #1967D2;\n",
       "      height: 32px;\n",
       "      padding: 0 0 0 0;\n",
       "      width: 32px;\n",
       "    }\n",
       "\n",
       "    .colab-df-convert:hover {\n",
       "      background-color: #E2EBFA;\n",
       "      box-shadow: 0px 1px 2px rgba(60, 64, 67, 0.3), 0px 1px 3px 1px rgba(60, 64, 67, 0.15);\n",
       "      fill: #174EA6;\n",
       "    }\n",
       "\n",
       "    [theme=dark] .colab-df-convert {\n",
       "      background-color: #3B4455;\n",
       "      fill: #D2E3FC;\n",
       "    }\n",
       "\n",
       "    [theme=dark] .colab-df-convert:hover {\n",
       "      background-color: #434B5C;\n",
       "      box-shadow: 0px 1px 3px 1px rgba(0, 0, 0, 0.15);\n",
       "      filter: drop-shadow(0px 1px 2px rgba(0, 0, 0, 0.3));\n",
       "      fill: #FFFFFF;\n",
       "    }\n",
       "  </style>\n",
       "\n",
       "      <script>\n",
       "        const buttonEl =\n",
       "          document.querySelector('#df-c51d4683-66b7-4cc9-9d46-5e69effe9b18 button.colab-df-convert');\n",
       "        buttonEl.style.display =\n",
       "          google.colab.kernel.accessAllowed ? 'block' : 'none';\n",
       "\n",
       "        async function convertToInteractive(key) {\n",
       "          const element = document.querySelector('#df-c51d4683-66b7-4cc9-9d46-5e69effe9b18');\n",
       "          const dataTable =\n",
       "            await google.colab.kernel.invokeFunction('convertToInteractive',\n",
       "                                                     [key], {});\n",
       "          if (!dataTable) return;\n",
       "\n",
       "          const docLinkHtml = 'Like what you see? Visit the ' +\n",
       "            '<a target=\"_blank\" href=https://colab.research.google.com/notebooks/data_table.ipynb>data table notebook</a>'\n",
       "            + ' to learn more about interactive tables.';\n",
       "          element.innerHTML = '';\n",
       "          dataTable['output_type'] = 'display_data';\n",
       "          await google.colab.output.renderOutput(dataTable, element);\n",
       "          const docLink = document.createElement('div');\n",
       "          docLink.innerHTML = docLinkHtml;\n",
       "          element.appendChild(docLink);\n",
       "        }\n",
       "      </script>\n",
       "    </div>\n",
       "  </div>\n",
       "  "
      ],
      "text/plain": [
       "          Date    Profession  Rank         Equipment  Insalubrity  \\\n",
       "220 2009-12-01  Metal heater     7  Heating furnaces           22   \n",
       "221 2009-12-01  Metal heater     6  Heating furnaces           22   \n",
       "222 2009-12-01  Metal heater     5  Heating furnaces           22   \n",
       "223 2009-12-01  Metal heater     5  Heating furnaces           22   \n",
       "224 2009-12-01  Metal heater     4  Heating furnaces           22   \n",
       "\n",
       "     Size_Production   Salary  month  \n",
       "220              810  26020.0     12  \n",
       "221              810  22980.0     12  \n",
       "222              810  20350.0     12  \n",
       "223              810  20350.0     12  \n",
       "224              810  18090.0     12  "
      ]
     },
     "execution_count": 69,
     "metadata": {},
     "output_type": "execute_result"
    }
   ],
   "source": [
    "df_1.tail()"
   ]
  },
  {
   "cell_type": "code",
   "execution_count": null,
   "metadata": {
    "colab": {
     "base_uri": "https://localhost:8080/",
     "height": 297
    },
    "id": "XiiHNBg2w0R6",
    "outputId": "72cdeb0b-3b6e-4eb1-8043-0092eee8f995"
   },
   "outputs": [
    {
     "data": {
      "image/png": "[encoded data removed]",
      "text/plain": [
       "<Figure size 432x288 with 6 Axes>"
      ]
     },
     "metadata": {
      "needs_background": "light"
     },
     "output_type": "display_data"
    }
   ],
   "source": [
    "df_1.hist()\n",
    "plt.tight_layout()\n",
    "plt.show()"
   ]
  },
  {
   "cell_type": "code",
   "execution_count": null,
   "metadata": {
    "colab": {
     "base_uri": "https://localhost:8080/",
     "height": 317
    },
    "id": "KD2lZA0FxLDE",
    "outputId": "844fa06f-93a0-4767-b3ae-6151cb500f58"
   },
   "outputs": [
    {
     "name": "stdout",
     "output_type": "stream",
     "text": [
      " \n",
      "2934 x + 7552\n"
     ]
    },
    {
     "data": {
      "image/png": "[encoded data removed]",
      "text/plain": [
       "<Figure size 432x288 with 1 Axes>"
      ]
     },
     "metadata": {
      "needs_background": "light"
     },
     "output_type": "display_data"
    }
   ],
   "source": [
    "#Correlação entre salário e Rank\n",
    "plt.title('Correlação Salary e Rank')\n",
    "plt.scatter(x=df_1.Rank,y=df_1.Salary)\n",
    "z = np.polyfit(x=df_1.Rank,y=df_1.Salary,deg=1) #Achando coeficiente entre as variáveis\n",
    "p = np.poly1d(z) #Gerando uma expressão álgebrica entre elas usando os coeficientes\n",
    "print(p)\n",
    "plt.plot(df_1.Rank,p(df_1.Rank),color='r')\n",
    "plt.show()"
   ]
  },
  {
   "cell_type": "code",
   "execution_count": null,
   "metadata": {
    "colab": {
     "base_uri": "https://localhost:8080/",
     "height": 317
    },
    "id": "b563_gCm5UOb",
    "outputId": "9ce21fd2-d30c-4aec-daa3-8bfb222a4545"
   },
   "outputs": [
    {
     "name": "stdout",
     "output_type": "stream",
     "text": [
      " \n",
      "-1.972e-19 x + 22\n"
     ]
    },
    {
     "data": {
      "image/png": "[encoded data removed]",
      "text/plain": [
       "<Figure size 432x288 with 1 Axes>"
      ]
     },
     "metadata": {
      "needs_background": "light"
     },
     "output_type": "display_data"
    }
   ],
   "source": [
    "#Correlação entre salário e Insalubrity\n",
    "plt.title('Correlação Salary e Insalubrity')\n",
    "plt.scatter(x=df_1.Salary,y=df_1.Insalubrity)\n",
    "z = np.polyfit(x=df_1.Salary,y=df_1.Insalubrity,deg=1) #Achando coeficiente entre as variáveis\n",
    "p = np.poly1d(z) #Gerando uma expressão álgebrica entre elas usando os coeficientes\n",
    "print(p)\n",
    "plt.plot(df_1.Rank,p(df_1.Salary),color='r')\n",
    "plt.show()"
   ]
  },
  {
   "cell_type": "code",
   "execution_count": null,
   "metadata": {
    "colab": {
     "base_uri": "https://localhost:8080/",
     "height": 334
    },
    "id": "jy5YGh4i6lXa",
    "outputId": "032a1ee6-825d-4e4a-c8ef-ce9b2a9ec188"
   },
   "outputs": [
    {
     "data": {
      "image/png": "[encoded data removed]",
      "text/plain": [
       "<Figure size 1080x360 with 1 Axes>"
      ]
     },
     "metadata": {
      "needs_background": "light"
     },
     "output_type": "display_data"
    }
   ],
   "source": [
    "#Avaliando insalubridade entre cargos\n",
    "plt.figure(figsize=(15,5))\n",
    "sb.boxplot(x=df.Profession,y=df.Insalubrity)\n",
    "plt.axhline(max(df.Insalubrity),color='r')\n",
    "plt.axhline(min(df.Insalubrity),color='r')\n",
    "plt.axhline(df.Insalubrity.mean(),color='r')\n",
    "plt.show()"
   ]
  },
  {
   "cell_type": "code",
   "execution_count": null,
   "metadata": {
    "colab": {
     "base_uri": "https://localhost:8080/",
     "height": 334
    },
    "id": "Fwq6fKLY7V8u",
    "outputId": "047c752f-3d2c-46a1-b611-8e8ab00c6e62"
   },
   "outputs": [
    {
     "data": {
      "image/png": "[encoded data removed]",
      "text/plain": [
       "<Figure size 1080x360 with 1 Axes>"
      ]
     },
     "metadata": {
      "needs_background": "light"
     },
     "output_type": "display_data"
    }
   ],
   "source": [
    "#Avaliando Size_Production entre cargos\n",
    "plt.figure(figsize=(15,5))\n",
    "sb.boxplot(x=df.Profession,y=df.Size_Production)\n",
    "plt.axhline(max(df.Size_Production),color='r')\n",
    "plt.axhline(min(df.Size_Production),color='r')\n",
    "plt.axhline(df.Size_Production.mean(),color='r')\n",
    "plt.show()"
   ]
  },
  {
   "cell_type": "code",
   "execution_count": null,
   "metadata": {
    "colab": {
     "base_uri": "https://localhost:8080/",
     "height": 206
    },
    "id": "3hyt9tGa4zjk",
    "outputId": "5f4410fb-74ec-4dcd-8b58-f08d3e908060"
   },
   "outputs": [
    {
     "data": {
      "text/html": [
       "\n",
       "  <div id=\"df-18199c8d-b717-4820-a4ec-57489987ac0f\">\n",
       "    <div class=\"colab-df-container\">\n",
       "      <div>\n",
       "<style scoped>\n",
       "    .dataframe tbody tr th:only-of-type {\n",
       "        vertical-align: middle;\n",
       "    }\n",
       "\n",
       "    .dataframe tbody tr th {\n",
       "        vertical-align: top;\n",
       "    }\n",
       "\n",
       "    .dataframe thead th {\n",
       "        text-align: right;\n",
       "    }\n",
       "</style>\n",
       "<table border=\"1\" class=\"dataframe\">\n",
       "  <thead>\n",
       "    <tr style=\"text-align: right;\">\n",
       "      <th></th>\n",
       "      <th>Date</th>\n",
       "      <th>Profession</th>\n",
       "      <th>Rank</th>\n",
       "      <th>Equipment</th>\n",
       "      <th>Insalubrity</th>\n",
       "      <th>Size_Production</th>\n",
       "      <th>Salary</th>\n",
       "      <th>month</th>\n",
       "    </tr>\n",
       "  </thead>\n",
       "  <tbody>\n",
       "    <tr>\n",
       "      <th>0</th>\n",
       "      <td>2009-01-01</td>\n",
       "      <td>Metal heater</td>\n",
       "      <td>7</td>\n",
       "      <td>Heating furnaces</td>\n",
       "      <td>22</td>\n",
       "      <td>580</td>\n",
       "      <td>26020.0</td>\n",
       "      <td>1</td>\n",
       "    </tr>\n",
       "    <tr>\n",
       "      <th>1</th>\n",
       "      <td>2009-01-01</td>\n",
       "      <td>Metal heater</td>\n",
       "      <td>6</td>\n",
       "      <td>Heating furnaces</td>\n",
       "      <td>22</td>\n",
       "      <td>580</td>\n",
       "      <td>22980.0</td>\n",
       "      <td>1</td>\n",
       "    </tr>\n",
       "    <tr>\n",
       "      <th>2</th>\n",
       "      <td>2009-01-01</td>\n",
       "      <td>Metal heater</td>\n",
       "      <td>5</td>\n",
       "      <td>Heating furnaces</td>\n",
       "      <td>22</td>\n",
       "      <td>580</td>\n",
       "      <td>20350.0</td>\n",
       "      <td>1</td>\n",
       "    </tr>\n",
       "    <tr>\n",
       "      <th>3</th>\n",
       "      <td>2009-01-01</td>\n",
       "      <td>Metal heater</td>\n",
       "      <td>5</td>\n",
       "      <td>Heating furnaces</td>\n",
       "      <td>22</td>\n",
       "      <td>580</td>\n",
       "      <td>20350.0</td>\n",
       "      <td>1</td>\n",
       "    </tr>\n",
       "    <tr>\n",
       "      <th>4</th>\n",
       "      <td>2009-01-01</td>\n",
       "      <td>Metal heater</td>\n",
       "      <td>4</td>\n",
       "      <td>Heating furnaces</td>\n",
       "      <td>22</td>\n",
       "      <td>580</td>\n",
       "      <td>18090.0</td>\n",
       "      <td>1</td>\n",
       "    </tr>\n",
       "  </tbody>\n",
       "</table>\n",
       "</div>\n",
       "      <button class=\"colab-df-convert\" onclick=\"convertToInteractive('df-18199c8d-b717-4820-a4ec-57489987ac0f')\"\n",
       "              title=\"Convert this dataframe to an interactive table.\"\n",
       "              style=\"display:none;\">\n",
       "        \n",
       "  <svg xmlns=\"http://www.w3.org/2000/svg\" height=\"24px\"viewBox=\"0 0 24 24\"\n",
       "       width=\"24px\">\n",
       "    <path d=\"M0 0h24v24H0V0z\" fill=\"none\"/>\n",
       "    <path d=\"M18.56 5.44l.94 2.06.94-2.06 2.06-.94-2.06-.94-.94-2.06-.94 2.06-2.06.94zm-11 1L8.5 8.5l.94-2.06 2.06-.94-2.06-.94L8.5 2.5l-.94 2.06-2.06.94zm10 10l.94 2.06.94-2.06 2.06-.94-2.06-.94-.94-2.06-.94 2.06-2.06.94z\"/><path d=\"M17.41 7.96l-1.37-1.37c-.4-.4-.92-.59-1.43-.59-.52 0-1.04.2-1.43.59L10.3 9.45l-7.72 7.72c-.78.78-.78 2.05 0 2.83L4 21.41c.39.39.9.59 1.41.59.51 0 1.02-.2 1.41-.59l7.78-7.78 2.81-2.81c.8-.78.8-2.07 0-2.86zM5.41 20L4 18.59l7.72-7.72 1.47 1.35L5.41 20z\"/>\n",
       "  </svg>\n",
       "      </button>\n",
       "      \n",
       "  <style>\n",
       "    .colab-df-container {\n",
       "      display:flex;\n",
       "      flex-wrap:wrap;\n",
       "      gap: 12px;\n",
       "    }\n",
       "\n",
       "    .colab-df-convert {\n",
       "      background-color: #E8F0FE;\n",
       "      border: none;\n",
       "      border-radius: 50%;\n",
       "      cursor: pointer;\n",
       "      display: none;\n",
       "      fill: #1967D2;\n",
       "      height: 32px;\n",
       "      padding: 0 0 0 0;\n",
       "      width: 32px;\n",
       "    }\n",
       "\n",
       "    .colab-df-convert:hover {\n",
       "      background-color: #E2EBFA;\n",
       "      box-shadow: 0px 1px 2px rgba(60, 64, 67, 0.3), 0px 1px 3px 1px rgba(60, 64, 67, 0.15);\n",
       "      fill: #174EA6;\n",
       "    }\n",
       "\n",
       "    [theme=dark] .colab-df-convert {\n",
       "      background-color: #3B4455;\n",
       "      fill: #D2E3FC;\n",
       "    }\n",
       "\n",
       "    [theme=dark] .colab-df-convert:hover {\n",
       "      background-color: #434B5C;\n",
       "      box-shadow: 0px 1px 3px 1px rgba(0, 0, 0, 0.15);\n",
       "      filter: drop-shadow(0px 1px 2px rgba(0, 0, 0, 0.3));\n",
       "      fill: #FFFFFF;\n",
       "    }\n",
       "  </style>\n",
       "\n",
       "      <script>\n",
       "        const buttonEl =\n",
       "          document.querySelector('#df-18199c8d-b717-4820-a4ec-57489987ac0f button.colab-df-convert');\n",
       "        buttonEl.style.display =\n",
       "          google.colab.kernel.accessAllowed ? 'block' : 'none';\n",
       "\n",
       "        async function convertToInteractive(key) {\n",
       "          const element = document.querySelector('#df-18199c8d-b717-4820-a4ec-57489987ac0f');\n",
       "          const dataTable =\n",
       "            await google.colab.kernel.invokeFunction('convertToInteractive',\n",
       "                                                     [key], {});\n",
       "          if (!dataTable) return;\n",
       "\n",
       "          const docLinkHtml = 'Like what you see? Visit the ' +\n",
       "            '<a target=\"_blank\" href=https://colab.research.google.com/notebooks/data_table.ipynb>data table notebook</a>'\n",
       "            + ' to learn more about interactive tables.';\n",
       "          element.innerHTML = '';\n",
       "          dataTable['output_type'] = 'display_data';\n",
       "          await google.colab.output.renderOutput(dataTable, element);\n",
       "          const docLink = document.createElement('div');\n",
       "          docLink.innerHTML = docLinkHtml;\n",
       "          element.appendChild(docLink);\n",
       "        }\n",
       "      </script>\n",
       "    </div>\n",
       "  </div>\n",
       "  "
      ],
      "text/plain": [
       "        Date    Profession  Rank         Equipment  Insalubrity  \\\n",
       "0 2009-01-01  Metal heater     7  Heating furnaces           22   \n",
       "1 2009-01-01  Metal heater     6  Heating furnaces           22   \n",
       "2 2009-01-01  Metal heater     5  Heating furnaces           22   \n",
       "3 2009-01-01  Metal heater     5  Heating furnaces           22   \n",
       "4 2009-01-01  Metal heater     4  Heating furnaces           22   \n",
       "\n",
       "   Size_Production   Salary  month  \n",
       "0              580  26020.0      1  \n",
       "1              580  22980.0      1  \n",
       "2              580  20350.0      1  \n",
       "3              580  20350.0      1  \n",
       "4              580  18090.0      1  "
      ]
     },
     "execution_count": 77,
     "metadata": {},
     "output_type": "execute_result"
    }
   ],
   "source": [
    "df.head()"
   ]
  },
  {
   "cell_type": "markdown",
   "metadata": {
    "id": "PfnbI9YL9DIs"
   },
   "source": [
    "#***Conclusões finais da análise***\n",
    "\n",
    "1.   **Date** tem influência no salário, pois observou-se uma relação entre a data dos dados e os valores dos salário. Quando investigada com mais detalhes mostrou-se está correlacionada com a variável **Size_Production**\n",
    "\n",
    "2.   **Rank** tem forte influência no salário, pois conforme este aumenta, o primeiro aumenta de forma direta.\n",
    "\n",
    "3.   **Insalubrity** impacta fortemente no salário, pois observou-se que conforme seu valor aumenta a tendência é que o salário aumente, mesmo em certas profisões o valor da medida se manter constante.\n",
    "\n",
    "4.   **Size_Production** é o mesmo para toda a equipe, não importando a profissão.\n",
    "\n",
    "5.   **Profession** é uma variável importante para essa previsão, pois impacta fortemente na variabilidade dos salários. (Ex: Mesmo com insalubridade 0, um *Quality controller* já ganha acima da média salárial da fábrica)\n",
    "\n"
   ]
  },
  {
   "cell_type": "markdown",
   "metadata": {
    "id": "n1Azuwlanyn9"
   },
   "source": [
    "# ***CRIANDO UM MODELO PREDITIVO (LinearRegression)***"
   ]
  },
  {
   "cell_type": "markdown",
   "metadata": {
    "id": "mAYTQhUtmIkT"
   },
   "source": [
    "**Tratando os dados**"
   ]
  },
  {
   "cell_type": "code",
   "execution_count": null,
   "metadata": {
    "id": "rDV0SpHR_UC0"
   },
   "outputs": [],
   "source": [
    "df_model_1 =df[['month','Profession','Rank','Insalubrity','Salary','Size_Production']]"
   ]
  },
  {
   "cell_type": "code",
   "execution_count": null,
   "metadata": {
    "colab": {
     "base_uri": "https://localhost:8080/",
     "height": 206
    },
    "id": "fzx9Rio37UJO",
    "outputId": "b3b90d06-f076-4965-e062-46fa0af5cb25",
    "tags": []
   },
   "outputs": [
    {
     "data": {
      "text/html": [
       "\n",
       "  <div id=\"df-c7a01c39-3250-4218-a062-0a207f4f2e3a\">\n",
       "    <div class=\"colab-df-container\">\n",
       "      <div>\n",
       "<style scoped>\n",
       "    .dataframe tbody tr th:only-of-type {\n",
       "        vertical-align: middle;\n",
       "    }\n",
       "\n",
       "    .dataframe tbody tr th {\n",
       "        vertical-align: top;\n",
       "    }\n",
       "\n",
       "    .dataframe thead th {\n",
       "        text-align: right;\n",
       "    }\n",
       "</style>\n",
       "<table border=\"1\" class=\"dataframe\">\n",
       "  <thead>\n",
       "    <tr style=\"text-align: right;\">\n",
       "      <th></th>\n",
       "      <th>month</th>\n",
       "      <th>Profession</th>\n",
       "      <th>Rank</th>\n",
       "      <th>Insalubrity</th>\n",
       "      <th>Salary</th>\n",
       "      <th>Size_Production</th>\n",
       "    </tr>\n",
       "  </thead>\n",
       "  <tbody>\n",
       "    <tr>\n",
       "      <th>0</th>\n",
       "      <td>1</td>\n",
       "      <td>Metal heater</td>\n",
       "      <td>7</td>\n",
       "      <td>22</td>\n",
       "      <td>26020.0</td>\n",
       "      <td>580</td>\n",
       "    </tr>\n",
       "    <tr>\n",
       "      <th>1</th>\n",
       "      <td>1</td>\n",
       "      <td>Metal heater</td>\n",
       "      <td>6</td>\n",
       "      <td>22</td>\n",
       "      <td>22980.0</td>\n",
       "      <td>580</td>\n",
       "    </tr>\n",
       "    <tr>\n",
       "      <th>2</th>\n",
       "      <td>1</td>\n",
       "      <td>Metal heater</td>\n",
       "      <td>5</td>\n",
       "      <td>22</td>\n",
       "      <td>20350.0</td>\n",
       "      <td>580</td>\n",
       "    </tr>\n",
       "    <tr>\n",
       "      <th>3</th>\n",
       "      <td>1</td>\n",
       "      <td>Metal heater</td>\n",
       "      <td>5</td>\n",
       "      <td>22</td>\n",
       "      <td>20350.0</td>\n",
       "      <td>580</td>\n",
       "    </tr>\n",
       "    <tr>\n",
       "      <th>4</th>\n",
       "      <td>1</td>\n",
       "      <td>Metal heater</td>\n",
       "      <td>4</td>\n",
       "      <td>22</td>\n",
       "      <td>18090.0</td>\n",
       "      <td>580</td>\n",
       "    </tr>\n",
       "  </tbody>\n",
       "</table>\n",
       "</div>\n",
       "      <button class=\"colab-df-convert\" onclick=\"convertToInteractive('df-c7a01c39-3250-4218-a062-0a207f4f2e3a')\"\n",
       "              title=\"Convert this dataframe to an interactive table.\"\n",
       "              style=\"display:none;\">\n",
       "        \n",
       "  <svg xmlns=\"http://www.w3.org/2000/svg\" height=\"24px\"viewBox=\"0 0 24 24\"\n",
       "       width=\"24px\">\n",
       "    <path d=\"M0 0h24v24H0V0z\" fill=\"none\"/>\n",
       "    <path d=\"M18.56 5.44l.94 2.06.94-2.06 2.06-.94-2.06-.94-.94-2.06-.94 2.06-2.06.94zm-11 1L8.5 8.5l.94-2.06 2.06-.94-2.06-.94L8.5 2.5l-.94 2.06-2.06.94zm10 10l.94 2.06.94-2.06 2.06-.94-2.06-.94-.94-2.06-.94 2.06-2.06.94z\"/><path d=\"M17.41 7.96l-1.37-1.37c-.4-.4-.92-.59-1.43-.59-.52 0-1.04.2-1.43.59L10.3 9.45l-7.72 7.72c-.78.78-.78 2.05 0 2.83L4 21.41c.39.39.9.59 1.41.59.51 0 1.02-.2 1.41-.59l7.78-7.78 2.81-2.81c.8-.78.8-2.07 0-2.86zM5.41 20L4 18.59l7.72-7.72 1.47 1.35L5.41 20z\"/>\n",
       "  </svg>\n",
       "      </button>\n",
       "      \n",
       "  <style>\n",
       "    .colab-df-container {\n",
       "      display:flex;\n",
       "      flex-wrap:wrap;\n",
       "      gap: 12px;\n",
       "    }\n",
       "\n",
       "    .colab-df-convert {\n",
       "      background-color: #E8F0FE;\n",
       "      border: none;\n",
       "      border-radius: 50%;\n",
       "      cursor: pointer;\n",
       "      display: none;\n",
       "      fill: #1967D2;\n",
       "      height: 32px;\n",
       "      padding: 0 0 0 0;\n",
       "      width: 32px;\n",
       "    }\n",
       "\n",
       "    .colab-df-convert:hover {\n",
       "      background-color: #E2EBFA;\n",
       "      box-shadow: 0px 1px 2px rgba(60, 64, 67, 0.3), 0px 1px 3px 1px rgba(60, 64, 67, 0.15);\n",
       "      fill: #174EA6;\n",
       "    }\n",
       "\n",
       "    [theme=dark] .colab-df-convert {\n",
       "      background-color: #3B4455;\n",
       "      fill: #D2E3FC;\n",
       "    }\n",
       "\n",
       "    [theme=dark] .colab-df-convert:hover {\n",
       "      background-color: #434B5C;\n",
       "      box-shadow: 0px 1px 3px 1px rgba(0, 0, 0, 0.15);\n",
       "      filter: drop-shadow(0px 1px 2px rgba(0, 0, 0, 0.3));\n",
       "      fill: #FFFFFF;\n",
       "    }\n",
       "  </style>\n",
       "\n",
       "      <script>\n",
       "        const buttonEl =\n",
       "          document.querySelector('#df-c7a01c39-3250-4218-a062-0a207f4f2e3a button.colab-df-convert');\n",
       "        buttonEl.style.display =\n",
       "          google.colab.kernel.accessAllowed ? 'block' : 'none';\n",
       "\n",
       "        async function convertToInteractive(key) {\n",
       "          const element = document.querySelector('#df-c7a01c39-3250-4218-a062-0a207f4f2e3a');\n",
       "          const dataTable =\n",
       "            await google.colab.kernel.invokeFunction('convertToInteractive',\n",
       "                                                     [key], {});\n",
       "          if (!dataTable) return;\n",
       "\n",
       "          const docLinkHtml = 'Like what you see? Visit the ' +\n",
       "            '<a target=\"_blank\" href=https://colab.research.google.com/notebooks/data_table.ipynb>data table notebook</a>'\n",
       "            + ' to learn more about interactive tables.';\n",
       "          element.innerHTML = '';\n",
       "          dataTable['output_type'] = 'display_data';\n",
       "          await google.colab.output.renderOutput(dataTable, element);\n",
       "          const docLink = document.createElement('div');\n",
       "          docLink.innerHTML = docLinkHtml;\n",
       "          element.appendChild(docLink);\n",
       "        }\n",
       "      </script>\n",
       "    </div>\n",
       "  </div>\n",
       "  "
      ],
      "text/plain": [
       "   month    Profession  Rank  Insalubrity   Salary  Size_Production\n",
       "0      1  Metal heater     7           22  26020.0              580\n",
       "1      1  Metal heater     6           22  22980.0              580\n",
       "2      1  Metal heater     5           22  20350.0              580\n",
       "3      1  Metal heater     5           22  20350.0              580\n",
       "4      1  Metal heater     4           22  18090.0              580"
      ]
     },
     "execution_count": 80,
     "metadata": {},
     "output_type": "execute_result"
    }
   ],
   "source": [
    "df_model_1.head()"
   ]
  },
  {
   "cell_type": "code",
   "execution_count": null,
   "metadata": {
    "colab": {
     "base_uri": "https://localhost:8080/",
     "height": 287
    },
    "id": "xyU4HtCdXsSP",
    "outputId": "e06fe96a-d0e0-4412-929a-0b92adcc1e2b",
    "tags": []
   },
   "outputs": [
    {
     "data": {
      "text/html": [
       "\n",
       "  <div id=\"df-bd5e8786-32ba-491f-ba94-1ab64a6ece24\">\n",
       "    <div class=\"colab-df-container\">\n",
       "      <div>\n",
       "<style scoped>\n",
       "    .dataframe tbody tr th:only-of-type {\n",
       "        vertical-align: middle;\n",
       "    }\n",
       "\n",
       "    .dataframe tbody tr th {\n",
       "        vertical-align: top;\n",
       "    }\n",
       "\n",
       "    .dataframe thead th {\n",
       "        text-align: right;\n",
       "    }\n",
       "</style>\n",
       "<table border=\"1\" class=\"dataframe\">\n",
       "  <thead>\n",
       "    <tr style=\"text-align: right;\">\n",
       "      <th></th>\n",
       "      <th>month</th>\n",
       "      <th>Rank</th>\n",
       "      <th>Insalubrity</th>\n",
       "      <th>Salary</th>\n",
       "      <th>Size_Production</th>\n",
       "      <th>Profession_Cleaner</th>\n",
       "      <th>Profession_Hot metal cutter</th>\n",
       "      <th>Profession_Metal heater</th>\n",
       "      <th>Profession_Metal planter</th>\n",
       "      <th>Profession_Operator</th>\n",
       "      <th>Profession_Quality controller</th>\n",
       "      <th>Profession_Refractory</th>\n",
       "      <th>Profession_Roller</th>\n",
       "      <th>Profession_Roller assistant</th>\n",
       "    </tr>\n",
       "  </thead>\n",
       "  <tbody>\n",
       "    <tr>\n",
       "      <th>259</th>\n",
       "      <td>8</td>\n",
       "      <td>7</td>\n",
       "      <td>0</td>\n",
       "      <td>26342.235294</td>\n",
       "      <td>1180</td>\n",
       "      <td>0</td>\n",
       "      <td>0</td>\n",
       "      <td>0</td>\n",
       "      <td>0</td>\n",
       "      <td>0</td>\n",
       "      <td>1</td>\n",
       "      <td>0</td>\n",
       "      <td>0</td>\n",
       "      <td>0</td>\n",
       "    </tr>\n",
       "    <tr>\n",
       "      <th>260</th>\n",
       "      <td>9</td>\n",
       "      <td>7</td>\n",
       "      <td>0</td>\n",
       "      <td>25044.588235</td>\n",
       "      <td>1080</td>\n",
       "      <td>0</td>\n",
       "      <td>0</td>\n",
       "      <td>0</td>\n",
       "      <td>0</td>\n",
       "      <td>0</td>\n",
       "      <td>1</td>\n",
       "      <td>0</td>\n",
       "      <td>0</td>\n",
       "      <td>0</td>\n",
       "    </tr>\n",
       "    <tr>\n",
       "      <th>261</th>\n",
       "      <td>10</td>\n",
       "      <td>7</td>\n",
       "      <td>0</td>\n",
       "      <td>22060.000000</td>\n",
       "      <td>780</td>\n",
       "      <td>0</td>\n",
       "      <td>0</td>\n",
       "      <td>0</td>\n",
       "      <td>0</td>\n",
       "      <td>0</td>\n",
       "      <td>1</td>\n",
       "      <td>0</td>\n",
       "      <td>0</td>\n",
       "      <td>0</td>\n",
       "    </tr>\n",
       "    <tr>\n",
       "      <th>262</th>\n",
       "      <td>11</td>\n",
       "      <td>7</td>\n",
       "      <td>0</td>\n",
       "      <td>24266.000000</td>\n",
       "      <td>1020</td>\n",
       "      <td>0</td>\n",
       "      <td>0</td>\n",
       "      <td>0</td>\n",
       "      <td>0</td>\n",
       "      <td>0</td>\n",
       "      <td>1</td>\n",
       "      <td>0</td>\n",
       "      <td>0</td>\n",
       "      <td>0</td>\n",
       "    </tr>\n",
       "    <tr>\n",
       "      <th>263</th>\n",
       "      <td>12</td>\n",
       "      <td>7</td>\n",
       "      <td>0</td>\n",
       "      <td>22060.000000</td>\n",
       "      <td>810</td>\n",
       "      <td>0</td>\n",
       "      <td>0</td>\n",
       "      <td>0</td>\n",
       "      <td>0</td>\n",
       "      <td>0</td>\n",
       "      <td>1</td>\n",
       "      <td>0</td>\n",
       "      <td>0</td>\n",
       "      <td>0</td>\n",
       "    </tr>\n",
       "  </tbody>\n",
       "</table>\n",
       "</div>\n",
       "      <button class=\"colab-df-convert\" onclick=\"convertToInteractive('df-bd5e8786-32ba-491f-ba94-1ab64a6ece24')\"\n",
       "              title=\"Convert this dataframe to an interactive table.\"\n",
       "              style=\"display:none;\">\n",
       "        \n",
       "  <svg xmlns=\"http://www.w3.org/2000/svg\" height=\"24px\"viewBox=\"0 0 24 24\"\n",
       "       width=\"24px\">\n",
       "    <path d=\"M0 0h24v24H0V0z\" fill=\"none\"/>\n",
       "    <path d=\"M18.56 5.44l.94 2.06.94-2.06 2.06-.94-2.06-.94-.94-2.06-.94 2.06-2.06.94zm-11 1L8.5 8.5l.94-2.06 2.06-.94-2.06-.94L8.5 2.5l-.94 2.06-2.06.94zm10 10l.94 2.06.94-2.06 2.06-.94-2.06-.94-.94-2.06-.94 2.06-2.06.94z\"/><path d=\"M17.41 7.96l-1.37-1.37c-.4-.4-.92-.59-1.43-.59-.52 0-1.04.2-1.43.59L10.3 9.45l-7.72 7.72c-.78.78-.78 2.05 0 2.83L4 21.41c.39.39.9.59 1.41.59.51 0 1.02-.2 1.41-.59l7.78-7.78 2.81-2.81c.8-.78.8-2.07 0-2.86zM5.41 20L4 18.59l7.72-7.72 1.47 1.35L5.41 20z\"/>\n",
       "  </svg>\n",
       "      </button>\n",
       "      \n",
       "  <style>\n",
       "    .colab-df-container {\n",
       "      display:flex;\n",
       "      flex-wrap:wrap;\n",
       "      gap: 12px;\n",
       "    }\n",
       "\n",
       "    .colab-df-convert {\n",
       "      background-color: #E8F0FE;\n",
       "      border: none;\n",
       "      border-radius: 50%;\n",
       "      cursor: pointer;\n",
       "      display: none;\n",
       "      fill: #1967D2;\n",
       "      height: 32px;\n",
       "      padding: 0 0 0 0;\n",
       "      width: 32px;\n",
       "    }\n",
       "\n",
       "    .colab-df-convert:hover {\n",
       "      background-color: #E2EBFA;\n",
       "      box-shadow: 0px 1px 2px rgba(60, 64, 67, 0.3), 0px 1px 3px 1px rgba(60, 64, 67, 0.15);\n",
       "      fill: #174EA6;\n",
       "    }\n",
       "\n",
       "    [theme=dark] .colab-df-convert {\n",
       "      background-color: #3B4455;\n",
       "      fill: #D2E3FC;\n",
       "    }\n",
       "\n",
       "    [theme=dark] .colab-df-convert:hover {\n",
       "      background-color: #434B5C;\n",
       "      box-shadow: 0px 1px 3px 1px rgba(0, 0, 0, 0.15);\n",
       "      filter: drop-shadow(0px 1px 2px rgba(0, 0, 0, 0.3));\n",
       "      fill: #FFFFFF;\n",
       "    }\n",
       "  </style>\n",
       "\n",
       "      <script>\n",
       "        const buttonEl =\n",
       "          document.querySelector('#df-bd5e8786-32ba-491f-ba94-1ab64a6ece24 button.colab-df-convert');\n",
       "        buttonEl.style.display =\n",
       "          google.colab.kernel.accessAllowed ? 'block' : 'none';\n",
       "\n",
       "        async function convertToInteractive(key) {\n",
       "          const element = document.querySelector('#df-bd5e8786-32ba-491f-ba94-1ab64a6ece24');\n",
       "          const dataTable =\n",
       "            await google.colab.kernel.invokeFunction('convertToInteractive',\n",
       "                                                     [key], {});\n",
       "          if (!dataTable) return;\n",
       "\n",
       "          const docLinkHtml = 'Like what you see? Visit the ' +\n",
       "            '<a target=\"_blank\" href=https://colab.research.google.com/notebooks/data_table.ipynb>data table notebook</a>'\n",
       "            + ' to learn more about interactive tables.';\n",
       "          element.innerHTML = '';\n",
       "          dataTable['output_type'] = 'display_data';\n",
       "          await google.colab.output.renderOutput(dataTable, element);\n",
       "          const docLink = document.createElement('div');\n",
       "          docLink.innerHTML = docLinkHtml;\n",
       "          element.appendChild(docLink);\n",
       "        }\n",
       "      </script>\n",
       "    </div>\n",
       "  </div>\n",
       "  "
      ],
      "text/plain": [
       "     month  Rank  Insalubrity        Salary  Size_Production  \\\n",
       "259      8     7            0  26342.235294             1180   \n",
       "260      9     7            0  25044.588235             1080   \n",
       "261     10     7            0  22060.000000              780   \n",
       "262     11     7            0  24266.000000             1020   \n",
       "263     12     7            0  22060.000000              810   \n",
       "\n",
       "     Profession_Cleaner  Profession_Hot metal cutter  Profession_Metal heater  \\\n",
       "259                   0                            0                        0   \n",
       "260                   0                            0                        0   \n",
       "261                   0                            0                        0   \n",
       "262                   0                            0                        0   \n",
       "263                   0                            0                        0   \n",
       "\n",
       "     Profession_Metal planter  Profession_Operator  \\\n",
       "259                         0                    0   \n",
       "260                         0                    0   \n",
       "261                         0                    0   \n",
       "262                         0                    0   \n",
       "263                         0                    0   \n",
       "\n",
       "     Profession_Quality controller  Profession_Refractory  Profession_Roller  \\\n",
       "259                              1                      0                  0   \n",
       "260                              1                      0                  0   \n",
       "261                              1                      0                  0   \n",
       "262                              1                      0                  0   \n",
       "263                              1                      0                  0   \n",
       "\n",
       "     Profession_Roller assistant  \n",
       "259                            0  \n",
       "260                            0  \n",
       "261                            0  \n",
       "262                            0  \n",
       "263                            0  "
      ]
     },
     "execution_count": 82,
     "metadata": {},
     "output_type": "execute_result"
    }
   ],
   "source": [
    "df_model_1 = pd.get_dummies(data=df_model_1)\n",
    "df_model_1.tail()"
   ]
  },
  {
   "cell_type": "markdown",
   "metadata": {
    "tags": []
   },
   "source": [
    "**Selecionamos apenas aquelas variáveis que consideramos interessantes para o model, no caso das 8 originais, somente 7. E transformamos a variável Profession em uma \"variável binária\" atráves do método get_dummies do Pandas.**"
   ]
  },
  {
   "cell_type": "code",
   "execution_count": null,
   "metadata": {
    "colab": {
     "base_uri": "https://localhost:8080/",
     "height": 287
    },
    "id": "xyU4HtCdXsSP",
    "outputId": "e06fe96a-d0e0-4412-929a-0b92adcc1e2b",
    "tags": []
   },
   "outputs": [
    {
     "data": {
      "text/html": [
       "\n",
       "  <div id=\"df-bd5e8786-32ba-491f-ba94-1ab64a6ece24\">\n",
       "    <div class=\"colab-df-container\">\n",
       "      <div>\n",
       "<style scoped>\n",
       "    .dataframe tbody tr th:only-of-type {\n",
       "        vertical-align: middle;\n",
       "    }\n",
       "\n",
       "    .dataframe tbody tr th {\n",
       "        vertical-align: top;\n",
       "    }\n",
       "\n",
       "    .dataframe thead th {\n",
       "        text-align: right;\n",
       "    }\n",
       "</style>\n",
       "<table border=\"1\" class=\"dataframe\">\n",
       "  <thead>\n",
       "    <tr style=\"text-align: right;\">\n",
       "      <th></th>\n",
       "      <th>month</th>\n",
       "      <th>Rank</th>\n",
       "      <th>Insalubrity</th>\n",
       "      <th>Salary</th>\n",
       "      <th>Size_Production</th>\n",
       "      <th>Profession_Cleaner</th>\n",
       "      <th>Profession_Hot metal cutter</th>\n",
       "      <th>Profession_Metal heater</th>\n",
       "      <th>Profession_Metal planter</th>\n",
       "      <th>Profession_Operator</th>\n",
       "      <th>Profession_Quality controller</th>\n",
       "      <th>Profession_Refractory</th>\n",
       "      <th>Profession_Roller</th>\n",
       "      <th>Profession_Roller assistant</th>\n",
       "    </tr>\n",
       "  </thead>\n",
       "  <tbody>\n",
       "    <tr>\n",
       "      <th>259</th>\n",
       "      <td>8</td>\n",
       "      <td>7</td>\n",
       "      <td>0</td>\n",
       "      <td>26342.235294</td>\n",
       "      <td>1180</td>\n",
       "      <td>0</td>\n",
       "      <td>0</td>\n",
       "      <td>0</td>\n",
       "      <td>0</td>\n",
       "      <td>0</td>\n",
       "      <td>1</td>\n",
       "      <td>0</td>\n",
       "      <td>0</td>\n",
       "      <td>0</td>\n",
       "    </tr>\n",
       "    <tr>\n",
       "      <th>260</th>\n",
       "      <td>9</td>\n",
       "      <td>7</td>\n",
       "      <td>0</td>\n",
       "      <td>25044.588235</td>\n",
       "      <td>1080</td>\n",
       "      <td>0</td>\n",
       "      <td>0</td>\n",
       "      <td>0</td>\n",
       "      <td>0</td>\n",
       "      <td>0</td>\n",
       "      <td>1</td>\n",
       "      <td>0</td>\n",
       "      <td>0</td>\n",
       "      <td>0</td>\n",
       "    </tr>\n",
       "    <tr>\n",
       "      <th>261</th>\n",
       "      <td>10</td>\n",
       "      <td>7</td>\n",
       "      <td>0</td>\n",
       "      <td>22060.000000</td>\n",
       "      <td>780</td>\n",
       "      <td>0</td>\n",
       "      <td>0</td>\n",
       "      <td>0</td>\n",
       "      <td>0</td>\n",
       "      <td>0</td>\n",
       "      <td>1</td>\n",
       "      <td>0</td>\n",
       "      <td>0</td>\n",
       "      <td>0</td>\n",
       "    </tr>\n",
       "    <tr>\n",
       "      <th>262</th>\n",
       "      <td>11</td>\n",
       "      <td>7</td>\n",
       "      <td>0</td>\n",
       "      <td>24266.000000</td>\n",
       "      <td>1020</td>\n",
       "      <td>0</td>\n",
       "      <td>0</td>\n",
       "      <td>0</td>\n",
       "      <td>0</td>\n",
       "      <td>0</td>\n",
       "      <td>1</td>\n",
       "      <td>0</td>\n",
       "      <td>0</td>\n",
       "      <td>0</td>\n",
       "    </tr>\n",
       "    <tr>\n",
       "      <th>263</th>\n",
       "      <td>12</td>\n",
       "      <td>7</td>\n",
       "      <td>0</td>\n",
       "      <td>22060.000000</td>\n",
       "      <td>810</td>\n",
       "      <td>0</td>\n",
       "      <td>0</td>\n",
       "      <td>0</td>\n",
       "      <td>0</td>\n",
       "      <td>0</td>\n",
       "      <td>1</td>\n",
       "      <td>0</td>\n",
       "      <td>0</td>\n",
       "      <td>0</td>\n",
       "    </tr>\n",
       "  </tbody>\n",
       "</table>\n",
       "</div>\n",
       "      <button class=\"colab-df-convert\" onclick=\"convertToInteractive('df-bd5e8786-32ba-491f-ba94-1ab64a6ece24')\"\n",
       "              title=\"Convert this dataframe to an interactive table.\"\n",
       "              style=\"display:none;\">\n",
       "        \n",
       "  <svg xmlns=\"http://www.w3.org/2000/svg\" height=\"24px\"viewBox=\"0 0 24 24\"\n",
       "       width=\"24px\">\n",
       "    <path d=\"M0 0h24v24H0V0z\" fill=\"none\"/>\n",
       "    <path d=\"M18.56 5.44l.94 2.06.94-2.06 2.06-.94-2.06-.94-.94-2.06-.94 2.06-2.06.94zm-11 1L8.5 8.5l.94-2.06 2.06-.94-2.06-.94L8.5 2.5l-.94 2.06-2.06.94zm10 10l.94 2.06.94-2.06 2.06-.94-2.06-.94-.94-2.06-.94 2.06-2.06.94z\"/><path d=\"M17.41 7.96l-1.37-1.37c-.4-.4-.92-.59-1.43-.59-.52 0-1.04.2-1.43.59L10.3 9.45l-7.72 7.72c-.78.78-.78 2.05 0 2.83L4 21.41c.39.39.9.59 1.41.59.51 0 1.02-.2 1.41-.59l7.78-7.78 2.81-2.81c.8-.78.8-2.07 0-2.86zM5.41 20L4 18.59l7.72-7.72 1.47 1.35L5.41 20z\"/>\n",
       "  </svg>\n",
       "      </button>\n",
       "      \n",
       "  <style>\n",
       "    .colab-df-container {\n",
       "      display:flex;\n",
       "      flex-wrap:wrap;\n",
       "      gap: 12px;\n",
       "    }\n",
       "\n",
       "    .colab-df-convert {\n",
       "      background-color: #E8F0FE;\n",
       "      border: none;\n",
       "      border-radius: 50%;\n",
       "      cursor: pointer;\n",
       "      display: none;\n",
       "      fill: #1967D2;\n",
       "      height: 32px;\n",
       "      padding: 0 0 0 0;\n",
       "      width: 32px;\n",
       "    }\n",
       "\n",
       "    .colab-df-convert:hover {\n",
       "      background-color: #E2EBFA;\n",
       "      box-shadow: 0px 1px 2px rgba(60, 64, 67, 0.3), 0px 1px 3px 1px rgba(60, 64, 67, 0.15);\n",
       "      fill: #174EA6;\n",
       "    }\n",
       "\n",
       "    [theme=dark] .colab-df-convert {\n",
       "      background-color: #3B4455;\n",
       "      fill: #D2E3FC;\n",
       "    }\n",
       "\n",
       "    [theme=dark] .colab-df-convert:hover {\n",
       "      background-color: #434B5C;\n",
       "      box-shadow: 0px 1px 3px 1px rgba(0, 0, 0, 0.15);\n",
       "      filter: drop-shadow(0px 1px 2px rgba(0, 0, 0, 0.3));\n",
       "      fill: #FFFFFF;\n",
       "    }\n",
       "  </style>\n",
       "\n",
       "      <script>\n",
       "        const buttonEl =\n",
       "          document.querySelector('#df-bd5e8786-32ba-491f-ba94-1ab64a6ece24 button.colab-df-convert');\n",
       "        buttonEl.style.display =\n",
       "          google.colab.kernel.accessAllowed ? 'block' : 'none';\n",
       "\n",
       "        async function convertToInteractive(key) {\n",
       "          const element = document.querySelector('#df-bd5e8786-32ba-491f-ba94-1ab64a6ece24');\n",
       "          const dataTable =\n",
       "            await google.colab.kernel.invokeFunction('convertToInteractive',\n",
       "                                                     [key], {});\n",
       "          if (!dataTable) return;\n",
       "\n",
       "          const docLinkHtml = 'Like what you see? Visit the ' +\n",
       "            '<a target=\"_blank\" href=https://colab.research.google.com/notebooks/data_table.ipynb>data table notebook</a>'\n",
       "            + ' to learn more about interactive tables.';\n",
       "          element.innerHTML = '';\n",
       "          dataTable['output_type'] = 'display_data';\n",
       "          await google.colab.output.renderOutput(dataTable, element);\n",
       "          const docLink = document.createElement('div');\n",
       "          docLink.innerHTML = docLinkHtml;\n",
       "          element.appendChild(docLink);\n",
       "        }\n",
       "      </script>\n",
       "    </div>\n",
       "  </div>\n",
       "  "
      ],
      "text/plain": [
       "     month  Rank  Insalubrity        Salary  Size_Production  \\\n",
       "259      8     7            0  26342.235294             1180   \n",
       "260      9     7            0  25044.588235             1080   \n",
       "261     10     7            0  22060.000000              780   \n",
       "262     11     7            0  24266.000000             1020   \n",
       "263     12     7            0  22060.000000              810   \n",
       "\n",
       "     Profession_Cleaner  Profession_Hot metal cutter  Profession_Metal heater  \\\n",
       "259                   0                            0                        0   \n",
       "260                   0                            0                        0   \n",
       "261                   0                            0                        0   \n",
       "262                   0                            0                        0   \n",
       "263                   0                            0                        0   \n",
       "\n",
       "     Profession_Metal planter  Profession_Operator  \\\n",
       "259                         0                    0   \n",
       "260                         0                    0   \n",
       "261                         0                    0   \n",
       "262                         0                    0   \n",
       "263                         0                    0   \n",
       "\n",
       "     Profession_Quality controller  Profession_Refractory  Profession_Roller  \\\n",
       "259                              1                      0                  0   \n",
       "260                              1                      0                  0   \n",
       "261                              1                      0                  0   \n",
       "262                              1                      0                  0   \n",
       "263                              1                      0                  0   \n",
       "\n",
       "     Profession_Roller assistant  \n",
       "259                            0  \n",
       "260                            0  \n",
       "261                            0  \n",
       "262                            0  \n",
       "263                            0  "
      ]
     },
     "execution_count": 82,
     "metadata": {},
     "output_type": "execute_result"
    }
   ],
   "source": [
    "df_model_1 = pd.get_dummies(data=df_model_1)\n",
    "df_model_1.tail()"
   ]
  },
  {
   "cell_type": "markdown",
   "metadata": {
    "id": "l9RmNHgJmS4E"
   },
   "source": [
    "**Criando o modelo (LinearRegression)**"
   ]
  },
  {
   "cell_type": "code",
   "execution_count": null,
   "metadata": {
    "id": "odP6q9k3ZG5b"
   },
   "outputs": [],
   "source": [
    "from sklearn.linear_model import LinearRegression\n",
    "from sklearn.model_selection import train_test_split\n",
    "X = df_model_1.drop(columns='Salary')\n",
    "y = df_model_1.Salary\n",
    "X_train, X_test, y_train, y_test = train_test_split(X,y,test_size=0.3,random_state=0)"
   ]
  },
  {
   "cell_type": "code",
   "execution_count": null,
   "metadata": {
    "colab": {
     "base_uri": "https://localhost:8080/",
     "height": 74
    },
    "id": "rOaY80wOaDRp",
    "outputId": "4db54d1f-0dfa-4017-da0a-7bb14642ad89"
   },
   "outputs": [
    {
     "data": {
      "text/html": [
       "<style>#sk-container-id-4 {color: black;background-color: white;}#sk-container-id-4 pre{padding: 0;}#sk-container-id-4 div.sk-toggleable {background-color: white;}#sk-container-id-4 label.sk-toggleable__label {cursor: pointer;display: block;width: 100%;margin-bottom: 0;padding: 0.3em;box-sizing: border-box;text-align: center;}#sk-container-id-4 label.sk-toggleable__label-arrow:before {content: \"▸\";float: left;margin-right: 0.25em;color: #696969;}#sk-container-id-4 label.sk-toggleable__label-arrow:hover:before {color: black;}#sk-container-id-4 div.sk-estimator:hover label.sk-toggleable__label-arrow:before {color: black;}#sk-container-id-4 div.sk-toggleable__content {max-height: 0;max-width: 0;overflow: hidden;text-align: left;background-color: #f0f8ff;}#sk-container-id-4 div.sk-toggleable__content pre {margin: 0.2em;color: black;border-radius: 0.25em;background-color: #f0f8ff;}#sk-container-id-4 input.sk-toggleable__control:checked~div.sk-toggleable__content {max-height: 200px;max-width: 100%;overflow: auto;}#sk-container-id-4 input.sk-toggleable__control:checked~label.sk-toggleable__label-arrow:before {content: \"▾\";}#sk-container-id-4 div.sk-estimator input.sk-toggleable__control:checked~label.sk-toggleable__label {background-color: #d4ebff;}#sk-container-id-4 div.sk-label input.sk-toggleable__control:checked~label.sk-toggleable__label {background-color: #d4ebff;}#sk-container-id-4 input.sk-hidden--visually {border: 0;clip: rect(1px 1px 1px 1px);clip: rect(1px, 1px, 1px, 1px);height: 1px;margin: -1px;overflow: hidden;padding: 0;position: absolute;width: 1px;}#sk-container-id-4 div.sk-estimator {font-family: monospace;background-color: #f0f8ff;border: 1px dotted black;border-radius: 0.25em;box-sizing: border-box;margin-bottom: 0.5em;}#sk-container-id-4 div.sk-estimator:hover {background-color: #d4ebff;}#sk-container-id-4 div.sk-parallel-item::after {content: \"\";width: 100%;border-bottom: 1px solid gray;flex-grow: 1;}#sk-container-id-4 div.sk-label:hover label.sk-toggleable__label {background-color: #d4ebff;}#sk-container-id-4 div.sk-serial::before {content: \"\";position: absolute;border-left: 1px solid gray;box-sizing: border-box;top: 0;bottom: 0;left: 50%;z-index: 0;}#sk-container-id-4 div.sk-serial {display: flex;flex-direction: column;align-items: center;background-color: white;padding-right: 0.2em;padding-left: 0.2em;position: relative;}#sk-container-id-4 div.sk-item {position: relative;z-index: 1;}#sk-container-id-4 div.sk-parallel {display: flex;align-items: stretch;justify-content: center;background-color: white;position: relative;}#sk-container-id-4 div.sk-item::before, #sk-container-id-4 div.sk-parallel-item::before {content: \"\";position: absolute;border-left: 1px solid gray;box-sizing: border-box;top: 0;bottom: 0;left: 50%;z-index: -1;}#sk-container-id-4 div.sk-parallel-item {display: flex;flex-direction: column;z-index: 1;position: relative;background-color: white;}#sk-container-id-4 div.sk-parallel-item:first-child::after {align-self: flex-end;width: 50%;}#sk-container-id-4 div.sk-parallel-item:last-child::after {align-self: flex-start;width: 50%;}#sk-container-id-4 div.sk-parallel-item:only-child::after {width: 0;}#sk-container-id-4 div.sk-dashed-wrapped {border: 1px dashed gray;margin: 0 0.4em 0.5em 0.4em;box-sizing: border-box;padding-bottom: 0.4em;background-color: white;}#sk-container-id-4 div.sk-label label {font-family: monospace;font-weight: bold;display: inline-block;line-height: 1.2em;}#sk-container-id-4 div.sk-label-container {text-align: center;}#sk-container-id-4 div.sk-container {/* jupyter's `normalize.less` sets `[hidden] { display: none; }` but bootstrap.min.css set `[hidden] { display: none !important; }` so we also need the `!important` here to be able to override the default hidden behavior on the sphinx rendered scikit-learn.org. See: https://github.com/scikit-learn/scikit-learn/issues/21755 */display: inline-block !important;position: relative;}#sk-container-id-4 div.sk-text-repr-fallback {display: none;}</style><div id=\"sk-container-id-4\" class=\"sk-top-container\"><div class=\"sk-text-repr-fallback\"><pre>LinearRegression()</pre><b>In a Jupyter environment, please rerun this cell to show the HTML representation or trust the notebook. <br />On GitHub, the HTML representation is unable to render, please try loading this page with nbviewer.org.</b></div><div class=\"sk-container\" hidden><div class=\"sk-item\"><div class=\"sk-estimator sk-toggleable\"><input class=\"sk-toggleable__control sk-hidden--visually\" id=\"sk-estimator-id-4\" type=\"checkbox\" checked><label for=\"sk-estimator-id-4\" class=\"sk-toggleable__label sk-toggleable__label-arrow\">LinearRegression</label><div class=\"sk-toggleable__content\"><pre>LinearRegression()</pre></div></div></div></div></div>"
      ],
      "text/plain": [
       "LinearRegression()"
      ]
     },
     "execution_count": 84,
     "metadata": {},
     "output_type": "execute_result"
    }
   ],
   "source": [
    "modelo = LinearRegression()\n",
    "modelo.fit(X_train,y_train)"
   ]
  },
  {
   "cell_type": "markdown",
   "metadata": {
    "id": "RYnal1lQmYMK"
   },
   "source": [
    "**Avaliando o modelo**"
   ]
  },
  {
   "cell_type": "code",
   "execution_count": null,
   "metadata": {
    "id": "9I0AcCM6aQiV"
   },
   "outputs": [],
   "source": [
    "y_model_predict = modelo.predict(X_test)"
   ]
  },
  {
   "cell_type": "code",
   "execution_count": null,
   "metadata": {
    "colab": {
     "base_uri": "https://localhost:8080/"
    },
    "id": "d0_gKMVR9iLx",
    "outputId": "8836ed25-2056-44a7-8610-63c8514f7cfa"
   },
   "outputs": [
    {
     "data": {
      "text/plain": [
       "array([24768.77025451, 24963.83869692, 10540.24753105, 21671.08126691,\n",
       "       23394.50233426, 25620.75015112, 15457.1604266 , 15195.49020672,\n",
       "       28731.75345222, 22991.52181172, 22797.53449835, 17962.32640476,\n",
       "       15524.87204603, 18369.10324944, 19334.69585556, 24100.07612572,\n",
       "       15606.62247626, 24254.27058886, 22585.41616988, 17270.82013702,\n",
       "       22860.12160237, 25478.33836256, 17678.3644888 , 24606.89719184,\n",
       "       20774.70098053, 20466.9156202 , 16647.96300045, 18303.00174893,\n",
       "       12118.00287087, 20289.35271684, 25206.32770542, 27284.4229649 ,\n",
       "       25086.36941924, 23719.88985697, 26184.65253166, 22028.02277199,\n",
       "       19377.58958781, 22542.52243764, 26894.22063972, 14869.38494398,\n",
       "       17930.08590121, 22824.85282214, 16551.91125736, 21022.58878986,\n",
       "       16531.74826548, 24429.45796503, 16210.65915046, 27190.08651379,\n",
       "       19374.53723157, 23390.50801766, 21195.28366545, 17522.8704844 ,\n",
       "       17337.1123819 , 22377.37128382, 18260.10801669, 21164.26020079,\n",
       "       26326.32394258, 17224.51210975, 22797.53449835, 19749.11830127,\n",
       "       25086.36941924, 27432.57552229, 21047.60437935, 13706.06993503,\n",
       "       14401.29645698, 14981.98521614, 16791.34790962, 20206.63606195,\n",
       "       18111.78845443, 23507.10260641, 22150.55349431, 22684.9342262 ,\n",
       "       25507.17452211, 21318.45466393, 14852.59856535, 21195.28366545,\n",
       "       24254.27058886, 17917.80114106, 25906.16072805, 20571.28668149])"
      ]
     },
     "execution_count": 86,
     "metadata": {},
     "output_type": "execute_result"
    }
   ],
   "source": [
    "y_model_predict"
   ]
  },
  {
   "cell_type": "code",
   "execution_count": null,
   "metadata": {
    "colab": {
     "base_uri": "https://localhost:8080/"
    },
    "id": "x_V4dtFoao8W",
    "outputId": "3da63820-2644-487b-8b8c-de50edc407d8"
   },
   "outputs": [
    {
     "name": "stdout",
     "output_type": "stream",
     "text": [
      "O erro médio quadrado é 367202.51\n",
      "A média absoluta de erro é 459.42\n",
      "O meu R²(coeficiente de determinação) é 0.98\n",
      "A variância entre meus dados é 0.98\n"
     ]
    }
   ],
   "source": [
    "from sklearn.metrics import mean_squared_error, mean_absolute_error, r2_score, explained_variance_score\n",
    "mse = mean_squared_error(y_test, y_model_predict)\n",
    "mae = mean_absolute_error(y_test, y_model_predict)\n",
    "r2 = r2_score(y_test, y_model_predict)\n",
    "evs = explained_variance_score(y_test, y_model_predict)\n",
    "\n",
    "print(f'O erro médio quadrado é {mse:.2f}')\n",
    "print(f'A média absoluta de erro é {mae:.2f}')\n",
    "print(f'O meu R²(coeficiente de determinação) é {r2:.2f}')\n",
    "print(f'A variância entre meus dados é {evs:.2f}')"
   ]
  },
  {
   "cell_type": "code",
   "execution_count": null,
   "metadata": {
    "colab": {
     "base_uri": "https://localhost:8080/",
     "height": 541
    },
    "id": "Jols-j7Ya5QJ",
    "outputId": "6887df75-8f6f-4e2f-fe51-43c9b45870b4"
   },
   "outputs": [
    {
     "data": {
      "image/png": "[encoded data removed]",
      "text/plain": [
       "<Figure size 432x288 with 1 Axes>"
      ]
     },
     "metadata": {
      "needs_background": "light"
     },
     "output_type": "display_data"
    },
    {
     "data": {
      "image/png": "[encoded data removed]",
      "text/plain": [
       "<Figure size 432x288 with 1 Axes>"
      ]
     },
     "metadata": {
      "needs_background": "light"
     },
     "output_type": "display_data"
    }
   ],
   "source": [
    "sb.histplot(y_test,label=\"Real\",color=\"g\",element=\"step\")\n",
    "sb.histplot(y_model_predict,label=\"Previsao\",color=\"b\")\n",
    "plt.legend()\n",
    "plt.show()\n",
    "\n",
    "plt.xlabel(\"Real\")\n",
    "plt.ylabel(\"Previsao\")\n",
    "sb.scatterplot(x=y_test,y=y_model_predict)\n",
    "z = np.polyfit(x=y_test,y=y_model_predict,deg=1)\n",
    "p = np.poly1d(z)\n",
    "plt.plot(y_test,p(y_test),color='r')\n",
    "plt.show()"
   ]
  },
  {
   "cell_type": "markdown",
   "metadata": {
    "id": "3LIVyz3GDChT"
   },
   "source": [
    "# ***CRIANDO UM MODELO PREDITIVO (RandomForest)***"
   ]
  },
  {
   "cell_type": "markdown",
   "metadata": {
    "id": "yvrQV8dkDCht"
   },
   "source": [
    "**Tratando os dados**"
   ]
  },
  {
   "cell_type": "code",
   "execution_count": null,
   "metadata": {
    "id": "sScFzvUnDCht"
   },
   "outputs": [],
   "source": [
    "df_model_2 =df[['month','Profession','Rank','Insalubrity','Salary']]"
   ]
  },
  {
   "cell_type": "code",
   "execution_count": null,
   "metadata": {
    "colab": {
     "base_uri": "https://localhost:8080/",
     "height": 287
    },
    "id": "uudqHuiyDChu",
    "outputId": "8f67bbef-a3bd-43ca-a768-83c5f3722cde"
   },
   "outputs": [
    {
     "data": {
      "text/html": [
       "\n",
       "  <div id=\"df-88a98949-95d8-4e39-aafb-78a62c465820\">\n",
       "    <div class=\"colab-df-container\">\n",
       "      <div>\n",
       "<style scoped>\n",
       "    .dataframe tbody tr th:only-of-type {\n",
       "        vertical-align: middle;\n",
       "    }\n",
       "\n",
       "    .dataframe tbody tr th {\n",
       "        vertical-align: top;\n",
       "    }\n",
       "\n",
       "    .dataframe thead th {\n",
       "        text-align: right;\n",
       "    }\n",
       "</style>\n",
       "<table border=\"1\" class=\"dataframe\">\n",
       "  <thead>\n",
       "    <tr style=\"text-align: right;\">\n",
       "      <th></th>\n",
       "      <th>month</th>\n",
       "      <th>Rank</th>\n",
       "      <th>Insalubrity</th>\n",
       "      <th>Salary</th>\n",
       "      <th>Profession_Cleaner</th>\n",
       "      <th>Profession_Hot metal cutter</th>\n",
       "      <th>Profession_Metal heater</th>\n",
       "      <th>Profession_Metal planter</th>\n",
       "      <th>Profession_Operator</th>\n",
       "      <th>Profession_Quality controller</th>\n",
       "      <th>Profession_Refractory</th>\n",
       "      <th>Profession_Roller</th>\n",
       "      <th>Profession_Roller assistant</th>\n",
       "    </tr>\n",
       "  </thead>\n",
       "  <tbody>\n",
       "    <tr>\n",
       "      <th>0</th>\n",
       "      <td>1</td>\n",
       "      <td>7</td>\n",
       "      <td>22</td>\n",
       "      <td>26020.0</td>\n",
       "      <td>0</td>\n",
       "      <td>0</td>\n",
       "      <td>1</td>\n",
       "      <td>0</td>\n",
       "      <td>0</td>\n",
       "      <td>0</td>\n",
       "      <td>0</td>\n",
       "      <td>0</td>\n",
       "      <td>0</td>\n",
       "    </tr>\n",
       "    <tr>\n",
       "      <th>1</th>\n",
       "      <td>1</td>\n",
       "      <td>6</td>\n",
       "      <td>22</td>\n",
       "      <td>22980.0</td>\n",
       "      <td>0</td>\n",
       "      <td>0</td>\n",
       "      <td>1</td>\n",
       "      <td>0</td>\n",
       "      <td>0</td>\n",
       "      <td>0</td>\n",
       "      <td>0</td>\n",
       "      <td>0</td>\n",
       "      <td>0</td>\n",
       "    </tr>\n",
       "    <tr>\n",
       "      <th>2</th>\n",
       "      <td>1</td>\n",
       "      <td>5</td>\n",
       "      <td>22</td>\n",
       "      <td>20350.0</td>\n",
       "      <td>0</td>\n",
       "      <td>0</td>\n",
       "      <td>1</td>\n",
       "      <td>0</td>\n",
       "      <td>0</td>\n",
       "      <td>0</td>\n",
       "      <td>0</td>\n",
       "      <td>0</td>\n",
       "      <td>0</td>\n",
       "    </tr>\n",
       "    <tr>\n",
       "      <th>3</th>\n",
       "      <td>1</td>\n",
       "      <td>5</td>\n",
       "      <td>22</td>\n",
       "      <td>20350.0</td>\n",
       "      <td>0</td>\n",
       "      <td>0</td>\n",
       "      <td>1</td>\n",
       "      <td>0</td>\n",
       "      <td>0</td>\n",
       "      <td>0</td>\n",
       "      <td>0</td>\n",
       "      <td>0</td>\n",
       "      <td>0</td>\n",
       "    </tr>\n",
       "    <tr>\n",
       "      <th>4</th>\n",
       "      <td>1</td>\n",
       "      <td>4</td>\n",
       "      <td>22</td>\n",
       "      <td>18090.0</td>\n",
       "      <td>0</td>\n",
       "      <td>0</td>\n",
       "      <td>1</td>\n",
       "      <td>0</td>\n",
       "      <td>0</td>\n",
       "      <td>0</td>\n",
       "      <td>0</td>\n",
       "      <td>0</td>\n",
       "      <td>0</td>\n",
       "    </tr>\n",
       "  </tbody>\n",
       "</table>\n",
       "</div>\n",
       "      <button class=\"colab-df-convert\" onclick=\"convertToInteractive('df-88a98949-95d8-4e39-aafb-78a62c465820')\"\n",
       "              title=\"Convert this dataframe to an interactive table.\"\n",
       "              style=\"display:none;\">\n",
       "        \n",
       "  <svg xmlns=\"http://www.w3.org/2000/svg\" height=\"24px\"viewBox=\"0 0 24 24\"\n",
       "       width=\"24px\">\n",
       "    <path d=\"M0 0h24v24H0V0z\" fill=\"none\"/>\n",
       "    <path d=\"M18.56 5.44l.94 2.06.94-2.06 2.06-.94-2.06-.94-.94-2.06-.94 2.06-2.06.94zm-11 1L8.5 8.5l.94-2.06 2.06-.94-2.06-.94L8.5 2.5l-.94 2.06-2.06.94zm10 10l.94 2.06.94-2.06 2.06-.94-2.06-.94-.94-2.06-.94 2.06-2.06.94z\"/><path d=\"M17.41 7.96l-1.37-1.37c-.4-.4-.92-.59-1.43-.59-.52 0-1.04.2-1.43.59L10.3 9.45l-7.72 7.72c-.78.78-.78 2.05 0 2.83L4 21.41c.39.39.9.59 1.41.59.51 0 1.02-.2 1.41-.59l7.78-7.78 2.81-2.81c.8-.78.8-2.07 0-2.86zM5.41 20L4 18.59l7.72-7.72 1.47 1.35L5.41 20z\"/>\n",
       "  </svg>\n",
       "      </button>\n",
       "      \n",
       "  <style>\n",
       "    .colab-df-container {\n",
       "      display:flex;\n",
       "      flex-wrap:wrap;\n",
       "      gap: 12px;\n",
       "    }\n",
       "\n",
       "    .colab-df-convert {\n",
       "      background-color: #E8F0FE;\n",
       "      border: none;\n",
       "      border-radius: 50%;\n",
       "      cursor: pointer;\n",
       "      display: none;\n",
       "      fill: #1967D2;\n",
       "      height: 32px;\n",
       "      padding: 0 0 0 0;\n",
       "      width: 32px;\n",
       "    }\n",
       "\n",
       "    .colab-df-convert:hover {\n",
       "      background-color: #E2EBFA;\n",
       "      box-shadow: 0px 1px 2px rgba(60, 64, 67, 0.3), 0px 1px 3px 1px rgba(60, 64, 67, 0.15);\n",
       "      fill: #174EA6;\n",
       "    }\n",
       "\n",
       "    [theme=dark] .colab-df-convert {\n",
       "      background-color: #3B4455;\n",
       "      fill: #D2E3FC;\n",
       "    }\n",
       "\n",
       "    [theme=dark] .colab-df-convert:hover {\n",
       "      background-color: #434B5C;\n",
       "      box-shadow: 0px 1px 3px 1px rgba(0, 0, 0, 0.15);\n",
       "      filter: drop-shadow(0px 1px 2px rgba(0, 0, 0, 0.3));\n",
       "      fill: #FFFFFF;\n",
       "    }\n",
       "  </style>\n",
       "\n",
       "      <script>\n",
       "        const buttonEl =\n",
       "          document.querySelector('#df-88a98949-95d8-4e39-aafb-78a62c465820 button.colab-df-convert');\n",
       "        buttonEl.style.display =\n",
       "          google.colab.kernel.accessAllowed ? 'block' : 'none';\n",
       "\n",
       "        async function convertToInteractive(key) {\n",
       "          const element = document.querySelector('#df-88a98949-95d8-4e39-aafb-78a62c465820');\n",
       "          const dataTable =\n",
       "            await google.colab.kernel.invokeFunction('convertToInteractive',\n",
       "                                                     [key], {});\n",
       "          if (!dataTable) return;\n",
       "\n",
       "          const docLinkHtml = 'Like what you see? Visit the ' +\n",
       "            '<a target=\"_blank\" href=https://colab.research.google.com/notebooks/data_table.ipynb>data table notebook</a>'\n",
       "            + ' to learn more about interactive tables.';\n",
       "          element.innerHTML = '';\n",
       "          dataTable['output_type'] = 'display_data';\n",
       "          await google.colab.output.renderOutput(dataTable, element);\n",
       "          const docLink = document.createElement('div');\n",
       "          docLink.innerHTML = docLinkHtml;\n",
       "          element.appendChild(docLink);\n",
       "        }\n",
       "      </script>\n",
       "    </div>\n",
       "  </div>\n",
       "  "
      ],
      "text/plain": [
       "   month  Rank  Insalubrity   Salary  Profession_Cleaner  \\\n",
       "0      1     7           22  26020.0                   0   \n",
       "1      1     6           22  22980.0                   0   \n",
       "2      1     5           22  20350.0                   0   \n",
       "3      1     5           22  20350.0                   0   \n",
       "4      1     4           22  18090.0                   0   \n",
       "\n",
       "   Profession_Hot metal cutter  Profession_Metal heater  \\\n",
       "0                            0                        1   \n",
       "1                            0                        1   \n",
       "2                            0                        1   \n",
       "3                            0                        1   \n",
       "4                            0                        1   \n",
       "\n",
       "   Profession_Metal planter  Profession_Operator  \\\n",
       "0                         0                    0   \n",
       "1                         0                    0   \n",
       "2                         0                    0   \n",
       "3                         0                    0   \n",
       "4                         0                    0   \n",
       "\n",
       "   Profession_Quality controller  Profession_Refractory  Profession_Roller  \\\n",
       "0                              0                      0                  0   \n",
       "1                              0                      0                  0   \n",
       "2                              0                      0                  0   \n",
       "3                              0                      0                  0   \n",
       "4                              0                      0                  0   \n",
       "\n",
       "   Profession_Roller assistant  \n",
       "0                            0  \n",
       "1                            0  \n",
       "2                            0  \n",
       "3                            0  \n",
       "4                            0  "
      ]
     },
     "execution_count": 90,
     "metadata": {},
     "output_type": "execute_result"
    }
   ],
   "source": [
    "df_model_2 = pd.get_dummies(data=df_model_2)\n",
    "df_model_2.head()"
   ]
  },
  {
   "cell_type": "markdown",
   "metadata": {
    "id": "CL6Ny4J7DChv"
   },
   "source": [
    "**Criando o modelo (RandomForest)**"
   ]
  },
  {
   "cell_type": "code",
   "execution_count": null,
   "metadata": {
    "id": "cL6EWj-uDChv"
   },
   "outputs": [],
   "source": [
    "from sklearn.ensemble import RandomForestRegressor\n",
    "from sklearn.model_selection import train_test_split\n",
    "X = df_model_2.drop(columns='Salary')\n",
    "y = df_model_2.Salary\n",
    "X_train, X_test, y_train, y_test = train_test_split(X,y,test_size=0.25,random_state=0)"
   ]
  },
  {
   "cell_type": "code",
   "execution_count": null,
   "metadata": {
    "colab": {
     "base_uri": "https://localhost:8080/",
     "height": 74
    },
    "id": "ut1WBVugDChw",
    "outputId": "59469a74-7de3-480e-ba1a-2618b815c219"
   },
   "outputs": [
    {
     "data": {
      "text/html": [
       "<style>#sk-container-id-5 {color: black;background-color: white;}#sk-container-id-5 pre{padding: 0;}#sk-container-id-5 div.sk-toggleable {background-color: white;}#sk-container-id-5 label.sk-toggleable__label {cursor: pointer;display: block;width: 100%;margin-bottom: 0;padding: 0.3em;box-sizing: border-box;text-align: center;}#sk-container-id-5 label.sk-toggleable__label-arrow:before {content: \"▸\";float: left;margin-right: 0.25em;color: #696969;}#sk-container-id-5 label.sk-toggleable__label-arrow:hover:before {color: black;}#sk-container-id-5 div.sk-estimator:hover label.sk-toggleable__label-arrow:before {color: black;}#sk-container-id-5 div.sk-toggleable__content {max-height: 0;max-width: 0;overflow: hidden;text-align: left;background-color: #f0f8ff;}#sk-container-id-5 div.sk-toggleable__content pre {margin: 0.2em;color: black;border-radius: 0.25em;background-color: #f0f8ff;}#sk-container-id-5 input.sk-toggleable__control:checked~div.sk-toggleable__content {max-height: 200px;max-width: 100%;overflow: auto;}#sk-container-id-5 input.sk-toggleable__control:checked~label.sk-toggleable__label-arrow:before {content: \"▾\";}#sk-container-id-5 div.sk-estimator input.sk-toggleable__control:checked~label.sk-toggleable__label {background-color: #d4ebff;}#sk-container-id-5 div.sk-label input.sk-toggleable__control:checked~label.sk-toggleable__label {background-color: #d4ebff;}#sk-container-id-5 input.sk-hidden--visually {border: 0;clip: rect(1px 1px 1px 1px);clip: rect(1px, 1px, 1px, 1px);height: 1px;margin: -1px;overflow: hidden;padding: 0;position: absolute;width: 1px;}#sk-container-id-5 div.sk-estimator {font-family: monospace;background-color: #f0f8ff;border: 1px dotted black;border-radius: 0.25em;box-sizing: border-box;margin-bottom: 0.5em;}#sk-container-id-5 div.sk-estimator:hover {background-color: #d4ebff;}#sk-container-id-5 div.sk-parallel-item::after {content: \"\";width: 100%;border-bottom: 1px solid gray;flex-grow: 1;}#sk-container-id-5 div.sk-label:hover label.sk-toggleable__label {background-color: #d4ebff;}#sk-container-id-5 div.sk-serial::before {content: \"\";position: absolute;border-left: 1px solid gray;box-sizing: border-box;top: 0;bottom: 0;left: 50%;z-index: 0;}#sk-container-id-5 div.sk-serial {display: flex;flex-direction: column;align-items: center;background-color: white;padding-right: 0.2em;padding-left: 0.2em;position: relative;}#sk-container-id-5 div.sk-item {position: relative;z-index: 1;}#sk-container-id-5 div.sk-parallel {display: flex;align-items: stretch;justify-content: center;background-color: white;position: relative;}#sk-container-id-5 div.sk-item::before, #sk-container-id-5 div.sk-parallel-item::before {content: \"\";position: absolute;border-left: 1px solid gray;box-sizing: border-box;top: 0;bottom: 0;left: 50%;z-index: -1;}#sk-container-id-5 div.sk-parallel-item {display: flex;flex-direction: column;z-index: 1;position: relative;background-color: white;}#sk-container-id-5 div.sk-parallel-item:first-child::after {align-self: flex-end;width: 50%;}#sk-container-id-5 div.sk-parallel-item:last-child::after {align-self: flex-start;width: 50%;}#sk-container-id-5 div.sk-parallel-item:only-child::after {width: 0;}#sk-container-id-5 div.sk-dashed-wrapped {border: 1px dashed gray;margin: 0 0.4em 0.5em 0.4em;box-sizing: border-box;padding-bottom: 0.4em;background-color: white;}#sk-container-id-5 div.sk-label label {font-family: monospace;font-weight: bold;display: inline-block;line-height: 1.2em;}#sk-container-id-5 div.sk-label-container {text-align: center;}#sk-container-id-5 div.sk-container {/* jupyter's `normalize.less` sets `[hidden] { display: none; }` but bootstrap.min.css set `[hidden] { display: none !important; }` so we also need the `!important` here to be able to override the default hidden behavior on the sphinx rendered scikit-learn.org. See: https://github.com/scikit-learn/scikit-learn/issues/21755 */display: inline-block !important;position: relative;}#sk-container-id-5 div.sk-text-repr-fallback {display: none;}</style><div id=\"sk-container-id-5\" class=\"sk-top-container\"><div class=\"sk-text-repr-fallback\"><pre>RandomForestRegressor()</pre><b>In a Jupyter environment, please rerun this cell to show the HTML representation or trust the notebook. <br />On GitHub, the HTML representation is unable to render, please try loading this page with nbviewer.org.</b></div><div class=\"sk-container\" hidden><div class=\"sk-item\"><div class=\"sk-estimator sk-toggleable\"><input class=\"sk-toggleable__control sk-hidden--visually\" id=\"sk-estimator-id-5\" type=\"checkbox\" checked><label for=\"sk-estimator-id-5\" class=\"sk-toggleable__label sk-toggleable__label-arrow\">RandomForestRegressor</label><div class=\"sk-toggleable__content\"><pre>RandomForestRegressor()</pre></div></div></div></div></div>"
      ],
      "text/plain": [
       "RandomForestRegressor()"
      ]
     },
     "execution_count": 92,
     "metadata": {},
     "output_type": "execute_result"
    }
   ],
   "source": [
    "modelo_2 = RandomForestRegressor()\n",
    "modelo_2.fit(X_train,y_train)"
   ]
  },
  {
   "cell_type": "markdown",
   "metadata": {
    "id": "jNMPCIPhDChx"
   },
   "source": [
    "**Avaliando o modelo**"
   ]
  },
  {
   "cell_type": "code",
   "execution_count": null,
   "metadata": {
    "id": "g08E_Cl3DChx"
   },
   "outputs": [],
   "source": [
    "y_model_predict = modelo_2.predict(X_test)"
   ]
  },
  {
   "cell_type": "code",
   "execution_count": null,
   "metadata": {
    "colab": {
     "base_uri": "https://localhost:8080/"
    },
    "id": "kqRGQqzSDChx",
    "outputId": "39563f16-3a46-404d-d598-2ae557a56351"
   },
   "outputs": [
    {
     "name": "stdout",
     "output_type": "stream",
     "text": [
      "O erro médio quadrado é 1189560.31\n",
      "A média absoluta de erro é 805.85\n",
      "O meu R² é 0.92\n",
      "A variância entre meus dados é 0.93\n"
     ]
    }
   ],
   "source": [
    "from sklearn.metrics import mean_squared_error, mean_absolute_error, r2_score, explained_variance_score\n",
    "mse = mean_squared_error(y_test, y_model_predict)\n",
    "mae = mean_absolute_error(y_test, y_model_predict)\n",
    "r2 = r2_score(y_test, y_model_predict)\n",
    "evs = explained_variance_score(y_test, y_model_predict)\n",
    "\n",
    "print(f'O erro médio quadrado é {mse:.2f}')\n",
    "print(f'A média absoluta de erro é {mae:.2f}')\n",
    "print(f'O meu R² é {r2:.2f}')\n",
    "print(f'A variância entre meus dados é {evs:.2f}')"
   ]
  },
  {
   "cell_type": "code",
   "execution_count": null,
   "metadata": {
    "colab": {
     "base_uri": "https://localhost:8080/",
     "height": 541
    },
    "id": "TI7VCyptDChx",
    "outputId": "772e8a34-4d6e-41f2-94ce-3d76466adde3"
   },
   "outputs": [
    {
     "data": {
      "image/png": "[encoded data removed]",
      "text/plain": [
       "<Figure size 432x288 with 1 Axes>"
      ]
     },
     "metadata": {
      "needs_background": "light"
     },
     "output_type": "display_data"
    },
    {
     "data": {
      "image/png": "[encoded data removed]",
      "text/plain": [
       "<Figure size 432x288 with 1 Axes>"
      ]
     },
     "metadata": {
      "needs_background": "light"
     },
     "output_type": "display_data"
    }
   ],
   "source": [
    "sb.histplot(y_test,label=\"Real\",color=\"g\",element=\"step\")\n",
    "sb.histplot(y_model_predict,label=\"Previsao\",color=\"b\")\n",
    "plt.legend()\n",
    "plt.show()\n",
    "\n",
    "plt.xlabel(\"Real\")\n",
    "plt.ylabel(\"Previsao\")\n",
    "sb.scatterplot(x=y_test,y=y_model_predict)\n",
    "z = np.polyfit(x=y_test,y=y_model_predict,deg=1)\n",
    "p = np.poly1d(z)\n",
    "plt.plot(y_test,p(y_test),color='r')\n",
    "plt.show()"
   ]
  },
  {
   "cell_type": "markdown",
   "metadata": {
    "id": "7yilF0kjDZtT"
   },
   "source": [
    "# **TESTANDO NOVOS DADOS**"
   ]
  },
  {
   "cell_type": "code",
   "execution_count": null,
   "metadata": {
    "colab": {
     "base_uri": "https://localhost:8080/",
     "height": 162
    },
    "id": "FS4bwm8TEPsv",
    "outputId": "355dde42-af9f-4246-819a-4925cfdf1258"
   },
   "outputs": [
    {
     "data": {
      "text/html": [
       "\n",
       "  <div id=\"df-0c00c25c-433c-46eb-8408-f403f0dbd050\">\n",
       "    <div class=\"colab-df-container\">\n",
       "      <div>\n",
       "<style scoped>\n",
       "    .dataframe tbody tr th:only-of-type {\n",
       "        vertical-align: middle;\n",
       "    }\n",
       "\n",
       "    .dataframe tbody tr th {\n",
       "        vertical-align: top;\n",
       "    }\n",
       "\n",
       "    .dataframe thead th {\n",
       "        text-align: right;\n",
       "    }\n",
       "</style>\n",
       "<table border=\"1\" class=\"dataframe\">\n",
       "  <thead>\n",
       "    <tr style=\"text-align: right;\">\n",
       "      <th></th>\n",
       "      <th>month</th>\n",
       "      <th>Rank</th>\n",
       "      <th>Insalubrity</th>\n",
       "      <th>Size_Production</th>\n",
       "      <th>Profession_Cleaner</th>\n",
       "      <th>Profession_Hot metal cutter</th>\n",
       "      <th>Profession_Metal heater</th>\n",
       "      <th>Profession_Metal planter</th>\n",
       "      <th>Profession_Operator</th>\n",
       "      <th>Profession_Quality controller</th>\n",
       "      <th>Profession_Refractory</th>\n",
       "      <th>Profession_Roller</th>\n",
       "      <th>Profession_Roller assistant</th>\n",
       "    </tr>\n",
       "  </thead>\n",
       "  <tbody>\n",
       "    <tr>\n",
       "      <th>0</th>\n",
       "      <td>1</td>\n",
       "      <td>5</td>\n",
       "      <td>22</td>\n",
       "      <td>580</td>\n",
       "      <td>0</td>\n",
       "      <td>0</td>\n",
       "      <td>1</td>\n",
       "      <td>0</td>\n",
       "      <td>0</td>\n",
       "      <td>0</td>\n",
       "      <td>0</td>\n",
       "      <td>0</td>\n",
       "      <td>0</td>\n",
       "    </tr>\n",
       "  </tbody>\n",
       "</table>\n",
       "</div>\n",
       "      <button class=\"colab-df-convert\" onclick=\"convertToInteractive('df-0c00c25c-433c-46eb-8408-f403f0dbd050')\"\n",
       "              title=\"Convert this dataframe to an interactive table.\"\n",
       "              style=\"display:none;\">\n",
       "        \n",
       "  <svg xmlns=\"http://www.w3.org/2000/svg\" height=\"24px\"viewBox=\"0 0 24 24\"\n",
       "       width=\"24px\">\n",
       "    <path d=\"M0 0h24v24H0V0z\" fill=\"none\"/>\n",
       "    <path d=\"M18.56 5.44l.94 2.06.94-2.06 2.06-.94-2.06-.94-.94-2.06-.94 2.06-2.06.94zm-11 1L8.5 8.5l.94-2.06 2.06-.94-2.06-.94L8.5 2.5l-.94 2.06-2.06.94zm10 10l.94 2.06.94-2.06 2.06-.94-2.06-.94-.94-2.06-.94 2.06-2.06.94z\"/><path d=\"M17.41 7.96l-1.37-1.37c-.4-.4-.92-.59-1.43-.59-.52 0-1.04.2-1.43.59L10.3 9.45l-7.72 7.72c-.78.78-.78 2.05 0 2.83L4 21.41c.39.39.9.59 1.41.59.51 0 1.02-.2 1.41-.59l7.78-7.78 2.81-2.81c.8-.78.8-2.07 0-2.86zM5.41 20L4 18.59l7.72-7.72 1.47 1.35L5.41 20z\"/>\n",
       "  </svg>\n",
       "      </button>\n",
       "      \n",
       "  <style>\n",
       "    .colab-df-container {\n",
       "      display:flex;\n",
       "      flex-wrap:wrap;\n",
       "      gap: 12px;\n",
       "    }\n",
       "\n",
       "    .colab-df-convert {\n",
       "      background-color: #E8F0FE;\n",
       "      border: none;\n",
       "      border-radius: 50%;\n",
       "      cursor: pointer;\n",
       "      display: none;\n",
       "      fill: #1967D2;\n",
       "      height: 32px;\n",
       "      padding: 0 0 0 0;\n",
       "      width: 32px;\n",
       "    }\n",
       "\n",
       "    .colab-df-convert:hover {\n",
       "      background-color: #E2EBFA;\n",
       "      box-shadow: 0px 1px 2px rgba(60, 64, 67, 0.3), 0px 1px 3px 1px rgba(60, 64, 67, 0.15);\n",
       "      fill: #174EA6;\n",
       "    }\n",
       "\n",
       "    [theme=dark] .colab-df-convert {\n",
       "      background-color: #3B4455;\n",
       "      fill: #D2E3FC;\n",
       "    }\n",
       "\n",
       "    [theme=dark] .colab-df-convert:hover {\n",
       "      background-color: #434B5C;\n",
       "      box-shadow: 0px 1px 3px 1px rgba(0, 0, 0, 0.15);\n",
       "      filter: drop-shadow(0px 1px 2px rgba(0, 0, 0, 0.3));\n",
       "      fill: #FFFFFF;\n",
       "    }\n",
       "  </style>\n",
       "\n",
       "      <script>\n",
       "        const buttonEl =\n",
       "          document.querySelector('#df-0c00c25c-433c-46eb-8408-f403f0dbd050 button.colab-df-convert');\n",
       "        buttonEl.style.display =\n",
       "          google.colab.kernel.accessAllowed ? 'block' : 'none';\n",
       "\n",
       "        async function convertToInteractive(key) {\n",
       "          const element = document.querySelector('#df-0c00c25c-433c-46eb-8408-f403f0dbd050');\n",
       "          const dataTable =\n",
       "            await google.colab.kernel.invokeFunction('convertToInteractive',\n",
       "                                                     [key], {});\n",
       "          if (!dataTable) return;\n",
       "\n",
       "          const docLinkHtml = 'Like what you see? Visit the ' +\n",
       "            '<a target=\"_blank\" href=https://colab.research.google.com/notebooks/data_table.ipynb>data table notebook</a>'\n",
       "            + ' to learn more about interactive tables.';\n",
       "          element.innerHTML = '';\n",
       "          dataTable['output_type'] = 'display_data';\n",
       "          await google.colab.output.renderOutput(dataTable, element);\n",
       "          const docLink = document.createElement('div');\n",
       "          docLink.innerHTML = docLinkHtml;\n",
       "          element.appendChild(docLink);\n",
       "        }\n",
       "      </script>\n",
       "    </div>\n",
       "  </div>\n",
       "  "
      ],
      "text/plain": [
       "   month  Rank  Insalubrity  Size_Production  Profession_Cleaner  \\\n",
       "0      1     5           22              580                   0   \n",
       "\n",
       "   Profession_Hot metal cutter  Profession_Metal heater  \\\n",
       "0                            0                        1   \n",
       "\n",
       "   Profession_Metal planter  Profession_Operator  \\\n",
       "0                         0                    0   \n",
       "\n",
       "   Profession_Quality controller  Profession_Refractory  Profession_Roller  \\\n",
       "0                              0                      0                  0   \n",
       "\n",
       "   Profession_Roller assistant  \n",
       "0                            0  "
      ]
     },
     "execution_count": 96,
     "metadata": {},
     "output_type": "execute_result"
    }
   ],
   "source": [
    "colunas = df_model_1.drop(columns='Salary').columns.to_list()\n",
    "valores =[[1,5,22,580,0,0,1,0,0,0,0,0,0]]\n",
    "novos_dados_1 = pd.DataFrame(data=valores,columns=colunas)\n",
    "novos_dados_1"
   ]
  },
  {
   "cell_type": "code",
   "execution_count": null,
   "metadata": {
    "colab": {
     "base_uri": "https://localhost:8080/",
     "height": 162
    },
    "id": "jV6ZPkpDe_uI",
    "outputId": "8259dc31-3189-4305-c367-d575b6cc0a4d"
   },
   "outputs": [
    {
     "data": {
      "text/html": [
       "\n",
       "  <div id=\"df-9e8dfc0b-762f-4f91-ae0a-b1d3ba89cca4\">\n",
       "    <div class=\"colab-df-container\">\n",
       "      <div>\n",
       "<style scoped>\n",
       "    .dataframe tbody tr th:only-of-type {\n",
       "        vertical-align: middle;\n",
       "    }\n",
       "\n",
       "    .dataframe tbody tr th {\n",
       "        vertical-align: top;\n",
       "    }\n",
       "\n",
       "    .dataframe thead th {\n",
       "        text-align: right;\n",
       "    }\n",
       "</style>\n",
       "<table border=\"1\" class=\"dataframe\">\n",
       "  <thead>\n",
       "    <tr style=\"text-align: right;\">\n",
       "      <th></th>\n",
       "      <th>month</th>\n",
       "      <th>Rank</th>\n",
       "      <th>Insalubrity</th>\n",
       "      <th>Profession_Cleaner</th>\n",
       "      <th>Profession_Hot metal cutter</th>\n",
       "      <th>Profession_Metal heater</th>\n",
       "      <th>Profession_Metal planter</th>\n",
       "      <th>Profession_Operator</th>\n",
       "      <th>Profession_Quality controller</th>\n",
       "      <th>Profession_Refractory</th>\n",
       "      <th>Profession_Roller</th>\n",
       "      <th>Profession_Roller assistant</th>\n",
       "    </tr>\n",
       "  </thead>\n",
       "  <tbody>\n",
       "    <tr>\n",
       "      <th>0</th>\n",
       "      <td>1</td>\n",
       "      <td>5</td>\n",
       "      <td>22</td>\n",
       "      <td>0</td>\n",
       "      <td>0</td>\n",
       "      <td>1</td>\n",
       "      <td>0</td>\n",
       "      <td>0</td>\n",
       "      <td>0</td>\n",
       "      <td>0</td>\n",
       "      <td>0</td>\n",
       "      <td>0</td>\n",
       "    </tr>\n",
       "  </tbody>\n",
       "</table>\n",
       "</div>\n",
       "      <button class=\"colab-df-convert\" onclick=\"convertToInteractive('df-9e8dfc0b-762f-4f91-ae0a-b1d3ba89cca4')\"\n",
       "              title=\"Convert this dataframe to an interactive table.\"\n",
       "              style=\"display:none;\">\n",
       "        \n",
       "  <svg xmlns=\"http://www.w3.org/2000/svg\" height=\"24px\"viewBox=\"0 0 24 24\"\n",
       "       width=\"24px\">\n",
       "    <path d=\"M0 0h24v24H0V0z\" fill=\"none\"/>\n",
       "    <path d=\"M18.56 5.44l.94 2.06.94-2.06 2.06-.94-2.06-.94-.94-2.06-.94 2.06-2.06.94zm-11 1L8.5 8.5l.94-2.06 2.06-.94-2.06-.94L8.5 2.5l-.94 2.06-2.06.94zm10 10l.94 2.06.94-2.06 2.06-.94-2.06-.94-.94-2.06-.94 2.06-2.06.94z\"/><path d=\"M17.41 7.96l-1.37-1.37c-.4-.4-.92-.59-1.43-.59-.52 0-1.04.2-1.43.59L10.3 9.45l-7.72 7.72c-.78.78-.78 2.05 0 2.83L4 21.41c.39.39.9.59 1.41.59.51 0 1.02-.2 1.41-.59l7.78-7.78 2.81-2.81c.8-.78.8-2.07 0-2.86zM5.41 20L4 18.59l7.72-7.72 1.47 1.35L5.41 20z\"/>\n",
       "  </svg>\n",
       "      </button>\n",
       "      \n",
       "  <style>\n",
       "    .colab-df-container {\n",
       "      display:flex;\n",
       "      flex-wrap:wrap;\n",
       "      gap: 12px;\n",
       "    }\n",
       "\n",
       "    .colab-df-convert {\n",
       "      background-color: #E8F0FE;\n",
       "      border: none;\n",
       "      border-radius: 50%;\n",
       "      cursor: pointer;\n",
       "      display: none;\n",
       "      fill: #1967D2;\n",
       "      height: 32px;\n",
       "      padding: 0 0 0 0;\n",
       "      width: 32px;\n",
       "    }\n",
       "\n",
       "    .colab-df-convert:hover {\n",
       "      background-color: #E2EBFA;\n",
       "      box-shadow: 0px 1px 2px rgba(60, 64, 67, 0.3), 0px 1px 3px 1px rgba(60, 64, 67, 0.15);\n",
       "      fill: #174EA6;\n",
       "    }\n",
       "\n",
       "    [theme=dark] .colab-df-convert {\n",
       "      background-color: #3B4455;\n",
       "      fill: #D2E3FC;\n",
       "    }\n",
       "\n",
       "    [theme=dark] .colab-df-convert:hover {\n",
       "      background-color: #434B5C;\n",
       "      box-shadow: 0px 1px 3px 1px rgba(0, 0, 0, 0.15);\n",
       "      filter: drop-shadow(0px 1px 2px rgba(0, 0, 0, 0.3));\n",
       "      fill: #FFFFFF;\n",
       "    }\n",
       "  </style>\n",
       "\n",
       "      <script>\n",
       "        const buttonEl =\n",
       "          document.querySelector('#df-9e8dfc0b-762f-4f91-ae0a-b1d3ba89cca4 button.colab-df-convert');\n",
       "        buttonEl.style.display =\n",
       "          google.colab.kernel.accessAllowed ? 'block' : 'none';\n",
       "\n",
       "        async function convertToInteractive(key) {\n",
       "          const element = document.querySelector('#df-9e8dfc0b-762f-4f91-ae0a-b1d3ba89cca4');\n",
       "          const dataTable =\n",
       "            await google.colab.kernel.invokeFunction('convertToInteractive',\n",
       "                                                     [key], {});\n",
       "          if (!dataTable) return;\n",
       "\n",
       "          const docLinkHtml = 'Like what you see? Visit the ' +\n",
       "            '<a target=\"_blank\" href=https://colab.research.google.com/notebooks/data_table.ipynb>data table notebook</a>'\n",
       "            + ' to learn more about interactive tables.';\n",
       "          element.innerHTML = '';\n",
       "          dataTable['output_type'] = 'display_data';\n",
       "          await google.colab.output.renderOutput(dataTable, element);\n",
       "          const docLink = document.createElement('div');\n",
       "          docLink.innerHTML = docLinkHtml;\n",
       "          element.appendChild(docLink);\n",
       "        }\n",
       "      </script>\n",
       "    </div>\n",
       "  </div>\n",
       "  "
      ],
      "text/plain": [
       "   month  Rank  Insalubrity  Profession_Cleaner  Profession_Hot metal cutter  \\\n",
       "0      1     5           22                   0                            0   \n",
       "\n",
       "   Profession_Metal heater  Profession_Metal planter  Profession_Operator  \\\n",
       "0                        1                         0                    0   \n",
       "\n",
       "   Profession_Quality controller  Profession_Refractory  Profession_Roller  \\\n",
       "0                              0                      0                  0   \n",
       "\n",
       "   Profession_Roller assistant  \n",
       "0                            0  "
      ]
     },
     "execution_count": 97,
     "metadata": {},
     "output_type": "execute_result"
    }
   ],
   "source": [
    "colunas = df_model_2.drop(columns='Salary').columns.to_list()\n",
    "valores =[[1,5,22,0,0,1,0,0,0,0,0,0]]\n",
    "novos_dados_2 = pd.DataFrame(data=valores,columns=colunas)\n",
    "novos_dados_2"
   ]
  },
  {
   "cell_type": "code",
   "execution_count": null,
   "metadata": {
    "id": "A62eQXybI661"
   },
   "outputs": [
    {
     "data": {
      "text/html": [
       "<div>\n",
       "<style scoped>\n",
       "    .dataframe tbody tr th:only-of-type {\n",
       "        vertical-align: middle;\n",
       "    }\n",
       "\n",
       "    .dataframe tbody tr th {\n",
       "        vertical-align: top;\n",
       "    }\n",
       "\n",
       "    .dataframe thead th {\n",
       "        text-align: right;\n",
       "    }\n",
       "</style>\n",
       "<table border=\"1\" class=\"dataframe\">\n",
       "  <thead>\n",
       "    <tr style=\"text-align: right;\">\n",
       "      <th></th>\n",
       "      <th>Date</th>\n",
       "      <th>Profession</th>\n",
       "      <th>Rank</th>\n",
       "      <th>Equipment</th>\n",
       "      <th>Insalubrity</th>\n",
       "      <th>Size_Production</th>\n",
       "      <th>Salary</th>\n",
       "      <th>month</th>\n",
       "    </tr>\n",
       "  </thead>\n",
       "  <tbody>\n",
       "    <tr>\n",
       "      <th>2</th>\n",
       "      <td>2009-01-01</td>\n",
       "      <td>Metal heater</td>\n",
       "      <td>5</td>\n",
       "      <td>Heating furnaces</td>\n",
       "      <td>22</td>\n",
       "      <td>580</td>\n",
       "      <td>20350.0</td>\n",
       "      <td>1</td>\n",
       "    </tr>\n",
       "  </tbody>\n",
       "</table>\n",
       "</div>"
      ],
      "text/plain": [
       "        Date    Profession  Rank         Equipment  Insalubrity  \\\n",
       "2 2009-01-01  Metal heater     5  Heating furnaces           22   \n",
       "\n",
       "   Size_Production   Salary  month  \n",
       "2              580  20350.0      1  "
      ]
     },
     "execution_count": 14,
     "metadata": {},
     "output_type": "execute_result"
    }
   ],
   "source": [
    "dados_teste = df.iloc[2:3,:]\n",
    "dados_teste"
   ]
  },
  {
   "cell_type": "code",
   "execution_count": null,
   "metadata": {
    "colab": {
     "base_uri": "https://localhost:8080/"
    },
    "id": "IYtXgeU_GF8V",
    "outputId": "a14a1b9d-8c1d-477a-9456-c29278cef8d5"
   },
   "outputs": [
    {
     "name": "stdout",
     "output_type": "stream",
     "text": [
      "O valor real do salário era: 20350.00\n",
      "O modelo de LinearRegression preveu o valor de: 19444.83. O desvio foi de -4.45%\n",
      "O modelo de RandomForest preveu o valor de: 20338.54. O desvio foi de -0.06%\n"
     ]
    }
   ],
   "source": [
    "valor_teste = float(dados_teste.Salary)\n",
    "prev_lr = float(modelo.predict(novos_dados_1))\n",
    "prev_rf = float(modelo_2.predict(novos_dados_2))\n",
    "\n",
    "print(f'O valor real do salário era: {valor_teste:.2f}')\n",
    "print(f'O modelo de LinearRegression preveu o valor de: {prev_lr:.2f}. O desvio foi de {((prev_lr/valor_teste)-1)*100:.2f}%')\n",
    "print(f'O modelo de RandomForest preveu o valor de: {prev_rf:.2f}. O desvio foi de {((prev_rf/valor_teste)-1)*100:.2f}%')"
   ]
  }
 ],
 "metadata": {
  "colab": {
   "collapsed_sections": [
    "jwYidEf7tmAM",
    "r3b83DBs0sVl",
    "KqHnKDJz1A1e",
    "TCPY_bEJb27R",
    "_dmLpWap6xRM",
    "i1ne_pGZbnXX",
    "zPGimPzpwM26"
   ],
   "provenance": []
  },
  "kernelspec": {
   "display_name": "Python 3 (ipykernel)",
   "language": "python",
   "name": "python3"
  },
  "language_info": {
   "codemirror_mode": {
    "name": "ipython",
    "version": 3
   },
   "file_extension": ".py",
   "mimetype": "text/x-python",
   "name": "python",
   "nbconvert_exporter": "python",
   "pygments_lexer": "ipython3",
   "version": "3.9.13"
  }
 },
 "nbformat": 4,
 "nbformat_minor": 4
}
